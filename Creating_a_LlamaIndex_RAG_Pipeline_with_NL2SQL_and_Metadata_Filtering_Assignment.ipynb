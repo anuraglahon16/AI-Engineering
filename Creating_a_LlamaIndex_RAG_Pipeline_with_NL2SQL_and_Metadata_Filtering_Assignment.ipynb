{
  "cells": [
    {
      "cell_type": "markdown",
      "source": [
        "# Creating a LlamaIndex RAG Pipeline with NL2SQL and Metadata Filtering!\n",
        "\n",
        "We'll be putting together a system for querying both qualitative and quantitative data using LlamaIndex.\n",
        "\n",
        "The acitvities will be broken down as follows:\n",
        "\n",
        "- 🤝 Breakout Room #1\n",
        "  - Task 1: Load Dependencies\n",
        "  - Task 2: Set Env Variables and Set Up WandB Callback\n",
        "  - Task 3: Initialize Settings\n",
        "  - Task 4: Semantic RAG Pipeline with Metadata Filtering\n",
        "- 🤝 Breakout Room #2\n",
        "  - Task 1: Quantitative RAG Pipeline with NL2SQL Tooling\n",
        "  - Task 2: Combined RAG Pipeline\n",
        "\n",
        "Before we get started, however, a quick note on terminology.\n"
      ],
      "metadata": {
        "id": "x5TTdyIoo3i7"
      }
    },
    {
      "cell_type": "markdown",
      "metadata": {
        "id": "vcvGuykZSV_8"
      },
      "source": [
        "### A note on terminology:\n",
        "\n",
        "You'll notice that there are quite a few similarities between LangChain and LlamaIndex. LlamaIndex can largely be thought of as an extension to LangChain, in some ways - but they moved some of the language around. Let's spend a few moments disambiguating the language.\n",
        "\n",
        "- `QueryEngine` -> `LCEL Chain`:\n",
        "  -  `QueryEngine` is just LlamaIndex's way of indicating something is an LLM \"chain\" on top of a retrieval system\n",
        "- `OpenAIAgent` vs. `Agent`:\n",
        "  - The two agents have the same fundamental pattern: Decide which of a list of tools to use to answer a user's query.\n",
        "  - `OpenAIAgent` (LlamaIndex's primary agent) does not need to rely on an agent excecutor due to the fact that it is leveraging OpenAI's [functional api](https://openai.com/blog/function-calling-and-other-api-updates) which allows the agent to interface \"directly\" with the tools instead of operating through an intermediary application process.\n",
        "\n",
        "There is, however, a much large terminological difference when it comes to discussing data.\n",
        "\n",
        "##### Nodes vs. Documents\n",
        "\n",
        "As you're aware of from the previous weeks assignments, there's an idea of `documents` in NLP which refers to text objects that exist within a corpus of documents.\n",
        "\n",
        "LlamaIndex takes this a step further and reclassifies `documents` as `nodes`. Confusingly, it refers to the `Source Document` as simply `Documents`.\n",
        "\n",
        "The `Document` -> `node` structure is, almost exactly, equivalent to the `Source Document` -> `Document` structure found in LangChain - but the new terminology comes with some clarity about different structure-indices.\n",
        "\n",
        "We won't be leveraging those structured indicies today, but we will be leveraging a \"benefit\" of the `node` structure that exists as a default in LlamaIndex, which is the ability to quickly filter nodes based on their metadata.\n",
        "\n",
        "![image](https://i.imgur.com/B1QDjs5.png)"
      ]
    },
    {
      "cell_type": "markdown",
      "source": [
        "# 🤝 Breakout Room #1"
      ],
      "metadata": {
        "id": "dkLLmDFnOfOs"
      }
    },
    {
      "cell_type": "markdown",
      "metadata": {
        "id": "Msvju70DSV_8"
      },
      "source": [
        "## BOILERPLATE\n",
        "\n",
        "This is only relevant when running the code in a Jupyter Notebook."
      ]
    },
    {
      "cell_type": "code",
      "execution_count": 1,
      "metadata": {
        "id": "7VF57GcmSV_9"
      },
      "outputs": [],
      "source": [
        "import nest_asyncio\n",
        "\n",
        "nest_asyncio.apply()\n",
        "\n",
        "import logging\n",
        "import sys\n",
        "\n",
        "logging.basicConfig(stream=sys.stdout, level=logging.INFO)\n",
        "logging.getLogger().addHandler(logging.StreamHandler(stream=sys.stdout))"
      ]
    },
    {
      "cell_type": "markdown",
      "metadata": {
        "id": "6zQBPs6zSV_9"
      },
      "source": [
        "## Task 1: Load Dependencies"
      ]
    },
    {
      "cell_type": "markdown",
      "metadata": {
        "id": "WhEbxl3nSV_9"
      },
      "source": [
        "Let's grab our core `llama-index` library, as well as OpenAI's Python SDK.\n",
        "\n",
        "We'll be leveraging OpenAI's suite of APIs to power our RAG pipelines today.\n",
        "\n",
        "> NOTE: You can safely ignore any pip errors that occur during the running of these cells."
      ]
    },
    {
      "cell_type": "code",
      "execution_count": 2,
      "metadata": {
        "id": "b3oyvtl2SV_9",
        "colab": {
          "base_uri": "https://localhost:8080/"
        },
        "outputId": "1a4c92a6-4349-4e7d-c4fc-799f95d8f744"
      },
      "outputs": [
        {
          "output_type": "stream",
          "name": "stdout",
          "text": [
            "\u001b[2K     \u001b[90m━━━━━━━━━━━━━━━━━━━━━━━━━━━━━━━━━━━━━━━━\u001b[0m \u001b[32m227.4/227.4 kB\u001b[0m \u001b[31m3.9 MB/s\u001b[0m eta \u001b[36m0:00:00\u001b[0m\n",
            "\u001b[2K     \u001b[90m━━━━━━━━━━━━━━━━━━━━━━━━━━━━━━━━━━━━━━━━\u001b[0m \u001b[32m15.3/15.3 MB\u001b[0m \u001b[31m34.0 MB/s\u001b[0m eta \u001b[36m0:00:00\u001b[0m\n",
            "\u001b[2K     \u001b[90m━━━━━━━━━━━━━━━━━━━━━━━━━━━━━━━━━━━━━━━━\u001b[0m \u001b[32m2.0/2.0 MB\u001b[0m \u001b[31m32.0 MB/s\u001b[0m eta \u001b[36m0:00:00\u001b[0m\n",
            "\u001b[2K     \u001b[90m━━━━━━━━━━━━━━━━━━━━━━━━━━━━━━━━━━━━━━━━\u001b[0m \u001b[32m75.6/75.6 kB\u001b[0m \u001b[31m5.2 MB/s\u001b[0m eta \u001b[36m0:00:00\u001b[0m\n",
            "\u001b[2K     \u001b[90m━━━━━━━━━━━━━━━━━━━━━━━━━━━━━━━━━━━━━━━━\u001b[0m \u001b[32m77.8/77.8 kB\u001b[0m \u001b[31m7.4 MB/s\u001b[0m eta \u001b[36m0:00:00\u001b[0m\n",
            "\u001b[2K     \u001b[90m━━━━━━━━━━━━━━━━━━━━━━━━━━━━━━━━━━━━━━━━\u001b[0m \u001b[32m58.3/58.3 kB\u001b[0m \u001b[31m6.0 MB/s\u001b[0m eta \u001b[36m0:00:00\u001b[0m\n",
            "\u001b[2K     \u001b[90m━━━━━━━━━━━━━━━━━━━━━━━━━━━━━━━━━━━━━━━━\u001b[0m \u001b[32m108.0/108.0 kB\u001b[0m \u001b[31m11.3 MB/s\u001b[0m eta \u001b[36m0:00:00\u001b[0m\n",
            "\u001b[2K     \u001b[90m━━━━━━━━━━━━━━━━━━━━━━━━━━━━━━━━━━━━━━━━\u001b[0m \u001b[32m1.8/1.8 MB\u001b[0m \u001b[31m24.0 MB/s\u001b[0m eta \u001b[36m0:00:00\u001b[0m\n",
            "\u001b[2K     \u001b[90m━━━━━━━━━━━━━━━━━━━━━━━━━━━━━━━━━━━━━━━━\u001b[0m \u001b[32m4.4/4.4 MB\u001b[0m \u001b[31m48.6 MB/s\u001b[0m eta \u001b[36m0:00:00\u001b[0m\n",
            "\u001b[2K     \u001b[90m━━━━━━━━━━━━━━━━━━━━━━━━━━━━━━━━━━━━━━━━\u001b[0m \u001b[32m286.1/286.1 kB\u001b[0m \u001b[31m18.9 MB/s\u001b[0m eta \u001b[36m0:00:00\u001b[0m\n",
            "\u001b[2K     \u001b[90m━━━━━━━━━━━━━━━━━━━━━━━━━━━━━━━━━━━━━━━━\u001b[0m \u001b[32m525.5/525.5 kB\u001b[0m \u001b[31m38.3 MB/s\u001b[0m eta \u001b[36m0:00:00\u001b[0m\n",
            "\u001b[2K     \u001b[90m━━━━━━━━━━━━━━━━━━━━━━━━━━━━━━━━━━━━━━━━\u001b[0m \u001b[32m30.6/30.6 MB\u001b[0m \u001b[31m44.0 MB/s\u001b[0m eta \u001b[36m0:00:00\u001b[0m\n",
            "\u001b[2K     \u001b[90m━━━━━━━━━━━━━━━━━━━━━━━━━━━━━━━━━━━━━━━━\u001b[0m \u001b[32m49.4/49.4 kB\u001b[0m \u001b[31m5.0 MB/s\u001b[0m eta \u001b[36m0:00:00\u001b[0m\n",
            "\u001b[2K     \u001b[90m━━━━━━━━━━━━━━━━━━━━━━━━━━━━━━━━━━━━━━━━\u001b[0m \u001b[32m2.4/2.4 MB\u001b[0m \u001b[31m75.1 MB/s\u001b[0m eta \u001b[36m0:00:00\u001b[0m\n",
            "\u001b[2K     \u001b[90m━━━━━━━━━━━━━━━━━━━━━━━━━━━━━━━━━━━━━━━━\u001b[0m \u001b[32m92.1/92.1 kB\u001b[0m \u001b[31m9.7 MB/s\u001b[0m eta \u001b[36m0:00:00\u001b[0m\n",
            "\u001b[2K     \u001b[90m━━━━━━━━━━━━━━━━━━━━━━━━━━━━━━━━━━━━━━━━\u001b[0m \u001b[32m60.6/60.6 kB\u001b[0m \u001b[31m7.2 MB/s\u001b[0m eta \u001b[36m0:00:00\u001b[0m\n",
            "\u001b[2K     \u001b[90m━━━━━━━━━━━━━━━━━━━━━━━━━━━━━━━━━━━━━━━━\u001b[0m \u001b[32m41.3/41.3 kB\u001b[0m \u001b[31m4.6 MB/s\u001b[0m eta \u001b[36m0:00:00\u001b[0m\n",
            "\u001b[2K     \u001b[90m━━━━━━━━━━━━━━━━━━━━━━━━━━━━━━━━━━━━━━━━\u001b[0m \u001b[32m5.4/5.4 MB\u001b[0m \u001b[31m87.5 MB/s\u001b[0m eta \u001b[36m0:00:00\u001b[0m\n",
            "\u001b[2K     \u001b[90m━━━━━━━━━━━━━━━━━━━━━━━━━━━━━━━━━━━━━━━━\u001b[0m \u001b[32m6.8/6.8 MB\u001b[0m \u001b[31m70.1 MB/s\u001b[0m eta \u001b[36m0:00:00\u001b[0m\n",
            "\u001b[2K     \u001b[90m━━━━━━━━━━━━━━━━━━━━━━━━━━━━━━━━━━━━━━━━\u001b[0m \u001b[32m58.4/58.4 kB\u001b[0m \u001b[31m6.2 MB/s\u001b[0m eta \u001b[36m0:00:00\u001b[0m\n",
            "\u001b[2K     \u001b[90m━━━━━━━━━━━━━━━━━━━━━━━━━━━━━━━━━━━━━━━━\u001b[0m \u001b[32m105.7/105.7 kB\u001b[0m \u001b[31m11.9 MB/s\u001b[0m eta \u001b[36m0:00:00\u001b[0m\n",
            "\u001b[2K     \u001b[90m━━━━━━━━━━━━━━━━━━━━━━━━━━━━━━━━━━━━━━━━\u001b[0m \u001b[32m67.3/67.3 kB\u001b[0m \u001b[31m7.9 MB/s\u001b[0m eta \u001b[36m0:00:00\u001b[0m\n",
            "\u001b[?25h  Installing build dependencies ... \u001b[?25l\u001b[?25hdone\n",
            "  Getting requirements to build wheel ... \u001b[?25l\u001b[?25hdone\n",
            "  Preparing metadata (pyproject.toml) ... \u001b[?25l\u001b[?25hdone\n",
            "\u001b[2K     \u001b[90m━━━━━━━━━━━━━━━━━━━━━━━━━━━━━━━━━━━━━━━━\u001b[0m \u001b[32m698.9/698.9 kB\u001b[0m \u001b[31m49.1 MB/s\u001b[0m eta \u001b[36m0:00:00\u001b[0m\n",
            "\u001b[2K     \u001b[90m━━━━━━━━━━━━━━━━━━━━━━━━━━━━━━━━━━━━━━━━\u001b[0m \u001b[32m1.6/1.6 MB\u001b[0m \u001b[31m67.3 MB/s\u001b[0m eta \u001b[36m0:00:00\u001b[0m\n",
            "\u001b[2K     \u001b[90m━━━━━━━━━━━━━━━━━━━━━━━━━━━━━━━━━━━━━━━━\u001b[0m \u001b[32m67.6/67.6 kB\u001b[0m \u001b[31m7.5 MB/s\u001b[0m eta \u001b[36m0:00:00\u001b[0m\n",
            "\u001b[2K     \u001b[90m━━━━━━━━━━━━━━━━━━━━━━━━━━━━━━━━━━━━━━━━\u001b[0m \u001b[32m138.5/138.5 kB\u001b[0m \u001b[31m13.9 MB/s\u001b[0m eta \u001b[36m0:00:00\u001b[0m\n",
            "\u001b[2K     \u001b[90m━━━━━━━━━━━━━━━━━━━━━━━━━━━━━━━━━━━━━━━━\u001b[0m \u001b[32m71.5/71.5 kB\u001b[0m \u001b[31m7.9 MB/s\u001b[0m eta \u001b[36m0:00:00\u001b[0m\n",
            "\u001b[2K     \u001b[90m━━━━━━━━━━━━━━━━━━━━━━━━━━━━━━━━━━━━━━━━\u001b[0m \u001b[32m46.0/46.0 kB\u001b[0m \u001b[31m5.4 MB/s\u001b[0m eta \u001b[36m0:00:00\u001b[0m\n",
            "\u001b[2K     \u001b[90m━━━━━━━━━━━━━━━━━━━━━━━━━━━━━━━━━━━━━━━━\u001b[0m \u001b[32m50.8/50.8 kB\u001b[0m \u001b[31m5.3 MB/s\u001b[0m eta \u001b[36m0:00:00\u001b[0m\n",
            "\u001b[2K     \u001b[90m━━━━━━━━━━━━━━━━━━━━━━━━━━━━━━━━━━━━━━━━\u001b[0m \u001b[32m341.4/341.4 kB\u001b[0m \u001b[31m20.2 MB/s\u001b[0m eta \u001b[36m0:00:00\u001b[0m\n",
            "\u001b[2K     \u001b[90m━━━━━━━━━━━━━━━━━━━━━━━━━━━━━━━━━━━━━━━━\u001b[0m \u001b[32m3.4/3.4 MB\u001b[0m \u001b[31m86.2 MB/s\u001b[0m eta \u001b[36m0:00:00\u001b[0m\n",
            "\u001b[2K     \u001b[90m━━━━━━━━━━━━━━━━━━━━━━━━━━━━━━━━━━━━━━━━\u001b[0m \u001b[32m1.3/1.3 MB\u001b[0m \u001b[31m62.2 MB/s\u001b[0m eta \u001b[36m0:00:00\u001b[0m\n",
            "\u001b[2K     \u001b[90m━━━━━━━━━━━━━━━━━━━━━━━━━━━━━━━━━━━━━━━━\u001b[0m \u001b[32m130.2/130.2 kB\u001b[0m \u001b[31m15.2 MB/s\u001b[0m eta \u001b[36m0:00:00\u001b[0m\n",
            "\u001b[2K     \u001b[90m━━━━━━━━━━━━━━━━━━━━━━━━━━━━━━━━━━━━━━━━\u001b[0m \u001b[32m86.8/86.8 kB\u001b[0m \u001b[31m10.5 MB/s\u001b[0m eta \u001b[36m0:00:00\u001b[0m\n",
            "\u001b[?25h  Building wheel for pypika (pyproject.toml) ... \u001b[?25l\u001b[?25hdone\n"
          ]
        }
      ],
      "source": [
        "!pip install -qU llama-index openai"
      ]
    },
    {
      "cell_type": "markdown",
      "source": [
        "We'll be using [Weights and Biases](https://docs.wandb.ai/guides/prompts) (WandB) again for today's notebook!"
      ],
      "metadata": {
        "id": "6Jifl-qHO8MU"
      }
    },
    {
      "cell_type": "code",
      "source": [
        "!pip install -qU wandb llama-index-callbacks-wandb"
      ],
      "metadata": {
        "id": "9UcQpjG9Ovlk",
        "colab": {
          "base_uri": "https://localhost:8080/"
        },
        "outputId": "8a762fce-09d6-4d9e-c04d-41af4663e1fc"
      },
      "execution_count": 3,
      "outputs": [
        {
          "output_type": "stream",
          "name": "stdout",
          "text": [
            "\u001b[2K     \u001b[90m━━━━━━━━━━━━━━━━━━━━━━━━━━━━━━━━━━━━━━━━\u001b[0m \u001b[32m2.2/2.2 MB\u001b[0m \u001b[31m10.3 MB/s\u001b[0m eta \u001b[36m0:00:00\u001b[0m\n",
            "\u001b[2K     \u001b[90m━━━━━━━━━━━━━━━━━━━━━━━━━━━━━━━━━━━━━━━━\u001b[0m \u001b[32m195.4/195.4 kB\u001b[0m \u001b[31m13.2 MB/s\u001b[0m eta \u001b[36m0:00:00\u001b[0m\n",
            "\u001b[2K     \u001b[90m━━━━━━━━━━━━━━━━━━━━━━━━━━━━━━━━━━━━━━━━\u001b[0m \u001b[32m258.8/258.8 kB\u001b[0m \u001b[31m14.2 MB/s\u001b[0m eta \u001b[36m0:00:00\u001b[0m\n",
            "\u001b[2K     \u001b[90m━━━━━━━━━━━━━━━━━━━━━━━━━━━━━━━━━━━━━━━━\u001b[0m \u001b[32m62.7/62.7 kB\u001b[0m \u001b[31m5.3 MB/s\u001b[0m eta \u001b[36m0:00:00\u001b[0m\n",
            "\u001b[?25h"
          ]
        }
      ]
    },
    {
      "cell_type": "markdown",
      "source": [
        "We'll be collecting our semantic data from Wikipedia - and so will need the [Wikipedia Reader](https://github.com/run-llama/llama_index/tree/main/llama-index-integrations/readers/llama-index-readers-wikipedia)!"
      ],
      "metadata": {
        "id": "uqTXRTrLPatl"
      }
    },
    {
      "cell_type": "code",
      "execution_count": 4,
      "metadata": {
        "id": "f9kXf7pPSV_-",
        "colab": {
          "base_uri": "https://localhost:8080/"
        },
        "outputId": "5b25f210-2d8b-488a-dd72-439026c1dc28"
      },
      "outputs": [
        {
          "output_type": "stream",
          "name": "stdout",
          "text": [
            "  Preparing metadata (setup.py) ... \u001b[?25l\u001b[?25hdone\n",
            "  Building wheel for wikipedia (setup.py) ... \u001b[?25l\u001b[?25hdone\n"
          ]
        }
      ],
      "source": [
        "!pip install -qU wikipedia llama-index-readers-wikipedia"
      ]
    },
    {
      "cell_type": "markdown",
      "source": [
        "Our vector database today will be powered by [ChromaDB](https://github.com/chroma-core/chroma) and so we'll need that package as well!"
      ],
      "metadata": {
        "id": "Qq_rWHZEPrCO"
      }
    },
    {
      "cell_type": "code",
      "source": [
        "!pip install -qU chromadb llama-index-vector-stores-chroma"
      ],
      "metadata": {
        "id": "iMCA8HFGEPF_"
      },
      "execution_count": 5,
      "outputs": []
    },
    {
      "cell_type": "markdown",
      "source": [
        "Finally, we'll need to grab a few dependencies related to our quantitative data!"
      ],
      "metadata": {
        "id": "wNHDqna1P1NQ"
      }
    },
    {
      "cell_type": "code",
      "execution_count": 6,
      "metadata": {
        "id": "BrT8a3c0SV__",
        "colab": {
          "base_uri": "https://localhost:8080/"
        },
        "outputId": "dbe648be-9318-472a-97a8-2f8ac8b7ad33"
      },
      "outputs": [
        {
          "output_type": "stream",
          "name": "stdout",
          "text": [
            "\u001b[2K     \u001b[90m━━━━━━━━━━━━━━━━━━━━━━━━━━━━━━━━━━━━━━━━\u001b[0m \u001b[32m13.0/13.0 MB\u001b[0m \u001b[31m33.5 MB/s\u001b[0m eta \u001b[36m0:00:00\u001b[0m\n",
            "\u001b[2K     \u001b[90m━━━━━━━━━━━━━━━━━━━━━━━━━━━━━━━━━━━━━━━━\u001b[0m \u001b[32m345.4/345.4 kB\u001b[0m \u001b[31m22.7 MB/s\u001b[0m eta \u001b[36m0:00:00\u001b[0m\n",
            "\u001b[?25h\u001b[31mERROR: pip's dependency resolver does not currently take into account all the packages that are installed. This behaviour is the source of the following dependency conflicts.\n",
            "bigframes 0.22.0 requires pandas<2.1.4,>=1.5.0, but you have pandas 2.2.1 which is incompatible.\n",
            "google-colab 1.0.0 requires pandas==1.5.3, but you have pandas 2.2.1 which is incompatible.\u001b[0m\u001b[31m\n",
            "\u001b[0m"
          ]
        }
      ],
      "source": [
        "!pip install -q -U sqlalchemy pandas"
      ]
    },
    {
      "cell_type": "markdown",
      "source": [
        "We'll grab some additional miscellaneous dependencies here."
      ],
      "metadata": {
        "id": "WuZM6UjePVBk"
      }
    },
    {
      "cell_type": "code",
      "execution_count": 7,
      "metadata": {
        "id": "vqPJv3jUSV_-",
        "colab": {
          "base_uri": "https://localhost:8080/"
        },
        "outputId": "446e5866-1485-4a62-f747-e29e36cf76d5"
      },
      "outputs": [
        {
          "output_type": "stream",
          "name": "stdout",
          "text": [
            "\u001b[2K     \u001b[90m━━━━━━━━━━━━━━━━━━━━━━━━━━━━━━━━━━━━━━━━\u001b[0m \u001b[32m1.7/1.7 MB\u001b[0m \u001b[31m7.4 MB/s\u001b[0m eta \u001b[36m0:00:00\u001b[0m\n",
            "\u001b[2K     \u001b[90m━━━━━━━━━━━━━━━━━━━━━━━━━━━━━━━━━━━━━━━━\u001b[0m \u001b[32m86.0/86.0 kB\u001b[0m \u001b[31m9.6 MB/s\u001b[0m eta \u001b[36m0:00:00\u001b[0m\n",
            "\u001b[?25h  Preparing metadata (setup.py) ... \u001b[?25l\u001b[?25hdone\n",
            "\u001b[2K     \u001b[90m━━━━━━━━━━━━━━━━━━━━━━━━━━━━━━━━━━━━━━━━\u001b[0m \u001b[32m3.1/3.1 MB\u001b[0m \u001b[31m13.3 MB/s\u001b[0m eta \u001b[36m0:00:00\u001b[0m\n",
            "\u001b[?25h  Building wheel for sentence-transformers (setup.py) ... \u001b[?25l\u001b[?25hdone\n"
          ]
        }
      ],
      "source": [
        "!pip install -U -q tiktoken==0.4.0 sentence-transformers==2.2.2 pydantic==1.10.11"
      ]
    },
    {
      "cell_type": "markdown",
      "source": [
        "## Task 2: Set Env Variables and Set Up WandB Callback\n",
        "\n",
        "Let's set our API keys for both OpenAI and WandB!"
      ],
      "metadata": {
        "id": "ibtguieHP6n1"
      }
    },
    {
      "cell_type": "code",
      "execution_count": 8,
      "metadata": {
        "id": "7IBgMTPTSV_9",
        "colab": {
          "base_uri": "https://localhost:8080/"
        },
        "outputId": "4dfda2a9-a811-41cd-cd30-e84421dd7259"
      },
      "outputs": [
        {
          "name": "stdout",
          "output_type": "stream",
          "text": [
            "OpenAI API Key: ··········\n"
          ]
        }
      ],
      "source": [
        "import os\n",
        "import getpass\n",
        "\n",
        "os.environ[\"OPENAI_API_KEY\"] = getpass.getpass(\"OpenAI API Key: \")"
      ]
    },
    {
      "cell_type": "code",
      "execution_count": 9,
      "metadata": {
        "id": "4OHSwkDySV_-",
        "colab": {
          "base_uri": "https://localhost:8080/"
        },
        "outputId": "3b1b46c4-6755-4c08-9848-6be1bcedd88d"
      },
      "outputs": [
        {
          "name": "stdout",
          "output_type": "stream",
          "text": [
            "WandB API Key: ··········\n"
          ]
        }
      ],
      "source": [
        "os.environ[\"WANDB_API_KEY\"] = getpass.getpass(\"WandB API Key: \")"
      ]
    },
    {
      "cell_type": "markdown",
      "source": [
        "We'll also need to set a callback handler for WandB to ensure smooth operation of our traces!"
      ],
      "metadata": {
        "id": "Ut8E447rQBjY"
      }
    },
    {
      "cell_type": "code",
      "execution_count": 10,
      "metadata": {
        "id": "MoV2JINuSV_-",
        "colab": {
          "base_uri": "https://localhost:8080/",
          "height": 71
        },
        "outputId": "5b404d42-0636-44d0-ba49-e46964ef831c"
      },
      "outputs": [
        {
          "output_type": "stream",
          "name": "stderr",
          "text": [
            "\u001b[34m\u001b[1mwandb\u001b[0m: Streaming LlamaIndex events to W&B at https://wandb.ai/anuraglahon/aie1-llama-index-demo/runs/m3vpy5ue\n",
            "\u001b[34m\u001b[1mwandb\u001b[0m: `WandbCallbackHandler` is currently in beta.\n",
            "\u001b[34m\u001b[1mwandb\u001b[0m: Please report any issues to https://github.com/wandb/wandb/issues with the tag `llamaindex`.\n"
          ]
        }
      ],
      "source": [
        "import llama_index\n",
        "from llama_index.core import set_global_handler\n",
        "\n",
        "set_global_handler(\"wandb\", run_args={\"project\": \"aie1-llama-index-demo\"})\n",
        "wandb_callback = llama_index.core.global_handler"
      ]
    },
    {
      "cell_type": "markdown",
      "metadata": {
        "id": "UQwigweOSV_-"
      },
      "source": [
        "### Task 3: Settings\n",
        "\n",
        "LlamaIndex lets us set global settings which we can use to influence the default behaviour of our components.\n",
        "\n",
        "Let's set our LLM and our Embedding Model!"
      ]
    },
    {
      "cell_type": "code",
      "execution_count": 11,
      "metadata": {
        "id": "6KOy21KPSV_-"
      },
      "outputs": [],
      "source": [
        "from llama_index.llms.openai import OpenAI\n",
        "from llama_index.embeddings.openai import OpenAIEmbedding\n",
        "from llama_index.core import Settings\n",
        "\n",
        "Settings.llm = OpenAI(model=\"gpt-3.5-turbo\")\n",
        "Settings.embed_model = OpenAIEmbedding(model=\"text-embedding-3-small\")"
      ]
    },
    {
      "cell_type": "markdown",
      "metadata": {
        "id": "eiOdw7EQSV_-"
      },
      "source": [
        "## Task 4: Semantic RAG Pipeline with Metadata Filtering\n",
        "\n",
        "Now we can get to work creating our semantic `QueryEngine`!\n",
        "\n",
        "We'll start, as we normally do, by grabbing some data.\n",
        "\n",
        "> NOTE: Remember that a query engine is just a different word for a chain!"
      ]
    },
    {
      "cell_type": "markdown",
      "metadata": {
        "id": "iDEtQQWnSV_-"
      },
      "source": [
        "### Data Collection\n",
        "\n",
        "We're just going to be pulling information straight from Wikipedia using the built in `WikipediaReader`.\n",
        "\n",
        "> NOTE: Setting `auto_suggest=False` ensures we run into fewer auto-correct based errors."
      ]
    },
    {
      "cell_type": "code",
      "execution_count": 12,
      "metadata": {
        "id": "OrzzrnYMSV_-"
      },
      "outputs": [],
      "source": [
        "from llama_index.readers.wikipedia import WikipediaReader\n",
        "\n",
        "movie_list = [\"Dune (2021 film)\", \"Dune: Part Two\"]\n",
        "\n",
        "wiki_docs = WikipediaReader().load_data(pages=movie_list, auto_suggest=False)"
      ]
    },
    {
      "cell_type": "markdown",
      "metadata": {
        "id": "-6FRQ4hfSV_-"
      },
      "source": [
        "### Initializing our VectorStoreIndex with ChromaDB\n",
        "\n",
        "ChromaDB is a locally hostable and open-source vector database solution.\n",
        "\n",
        "It offers powerful features like metadata filtering out of the box, and will suit our needs well today!\n",
        "\n",
        "We'll start by creating our local `EphemeralClient()` (in-memory and not meant for production use-cases) and our collection.\n",
        "\n",
        "Then we'll create our `VectorStore` and `StorageContext` which will allow us to create an empty `VectorStoreIndex` which we will be able to add nodes to later!"
      ]
    },
    {
      "cell_type": "code",
      "source": [
        "from llama_index.vector_stores.chroma import ChromaVectorStore\n",
        "import chromadb\n",
        "\n",
        "chroma_client = chromadb.EphemeralClient()\n",
        "chroma_collection = chroma_client.create_collection(\"dune-v0\")"
      ],
      "metadata": {
        "id": "b1ut96aSEVwY"
      },
      "execution_count": 13,
      "outputs": []
    },
    {
      "cell_type": "code",
      "execution_count": 14,
      "metadata": {
        "id": "lZ5xilm1SV_-",
        "outputId": "54546bdb-daed-4782-e82a-ad8095be7664",
        "colab": {
          "base_uri": "https://localhost:8080/"
        }
      },
      "outputs": [
        {
          "output_type": "stream",
          "name": "stderr",
          "text": [
            "\u001b[34m\u001b[1mwandb\u001b[0m: Logged trace tree to W&B.\n"
          ]
        }
      ],
      "source": [
        "from llama_index.core import VectorStoreIndex\n",
        "from llama_index.core import StorageContext\n",
        "\n",
        "vector_store = ChromaVectorStore(chroma_collection=chroma_collection)\n",
        "storage_context = StorageContext.from_defaults(vector_store=vector_store)\n",
        "index = VectorStoreIndex.from_documents([], storage_context=storage_context)"
      ]
    },
    {
      "cell_type": "markdown",
      "metadata": {
        "id": "6qtzVDelSV_-"
      },
      "source": [
        "### Node Construction\n",
        "\n",
        "Now we will loop through our documents and metadata and construct nodes.\n",
        "\n",
        "We'll make sure to explicitly associate our nodes with their respective movie so we can filter by the movie title in the upcoming cells.\n",
        "\n",
        "> NOTE: You can safely ignore any WARNINGs in the following cell."
      ]
    },
    {
      "cell_type": "code",
      "execution_count": 15,
      "metadata": {
        "id": "LP4INgSGSV_-",
        "colab": {
          "base_uri": "https://localhost:8080/"
        },
        "outputId": "76a4fd67-eb5e-4a07-98fa-e68b83de0798"
      },
      "outputs": [
        {
          "output_type": "stream",
          "name": "stderr",
          "text": [
            "WARNING:chromadb.segment.impl.metadata.sqlite:Insert of existing embedding ID: 4869b8b4-9285-47c6-897d-3b5ab97cb39f\n"
          ]
        },
        {
          "output_type": "stream",
          "name": "stdout",
          "text": [
            "Insert of existing embedding ID: 4869b8b4-9285-47c6-897d-3b5ab97cb39f\n"
          ]
        },
        {
          "output_type": "stream",
          "name": "stderr",
          "text": [
            "WARNING:chromadb.segment.impl.metadata.sqlite:Insert of existing embedding ID: 9fede0f9-3038-48ed-aba6-1b7ef46aacad\n"
          ]
        },
        {
          "output_type": "stream",
          "name": "stdout",
          "text": [
            "Insert of existing embedding ID: 9fede0f9-3038-48ed-aba6-1b7ef46aacad\n"
          ]
        },
        {
          "output_type": "stream",
          "name": "stderr",
          "text": [
            "WARNING:chromadb.segment.impl.metadata.sqlite:Insert of existing embedding ID: 093a17c0-64ba-4b9c-8bb1-aa29b112beb6\n"
          ]
        },
        {
          "output_type": "stream",
          "name": "stdout",
          "text": [
            "Insert of existing embedding ID: 093a17c0-64ba-4b9c-8bb1-aa29b112beb6\n"
          ]
        },
        {
          "output_type": "stream",
          "name": "stderr",
          "text": [
            "WARNING:chromadb.segment.impl.metadata.sqlite:Insert of existing embedding ID: e6eb9e07-8dff-4ef2-823c-45a7da8d8609\n"
          ]
        },
        {
          "output_type": "stream",
          "name": "stdout",
          "text": [
            "Insert of existing embedding ID: e6eb9e07-8dff-4ef2-823c-45a7da8d8609\n"
          ]
        },
        {
          "output_type": "stream",
          "name": "stderr",
          "text": [
            "WARNING:chromadb.segment.impl.metadata.sqlite:Insert of existing embedding ID: 553b66e2-9fd9-4558-9eba-db125f72ca96\n"
          ]
        },
        {
          "output_type": "stream",
          "name": "stdout",
          "text": [
            "Insert of existing embedding ID: 553b66e2-9fd9-4558-9eba-db125f72ca96\n"
          ]
        },
        {
          "output_type": "stream",
          "name": "stderr",
          "text": [
            "WARNING:chromadb.segment.impl.metadata.sqlite:Insert of existing embedding ID: 0b7f8c1a-7db4-401b-ba36-522d218d58ab\n"
          ]
        },
        {
          "output_type": "stream",
          "name": "stdout",
          "text": [
            "Insert of existing embedding ID: 0b7f8c1a-7db4-401b-ba36-522d218d58ab\n"
          ]
        },
        {
          "output_type": "stream",
          "name": "stderr",
          "text": [
            "WARNING:chromadb.segment.impl.metadata.sqlite:Insert of existing embedding ID: 744dbf94-2dbb-4768-a0ad-2a25129e1c33\n"
          ]
        },
        {
          "output_type": "stream",
          "name": "stdout",
          "text": [
            "Insert of existing embedding ID: 744dbf94-2dbb-4768-a0ad-2a25129e1c33\n"
          ]
        },
        {
          "output_type": "stream",
          "name": "stderr",
          "text": [
            "WARNING:chromadb.segment.impl.metadata.sqlite:Insert of existing embedding ID: 5b255276-b317-40c8-9572-d5bbdf798945\n"
          ]
        },
        {
          "output_type": "stream",
          "name": "stdout",
          "text": [
            "Insert of existing embedding ID: 5b255276-b317-40c8-9572-d5bbdf798945\n"
          ]
        },
        {
          "output_type": "stream",
          "name": "stderr",
          "text": [
            "WARNING:chromadb.segment.impl.metadata.sqlite:Insert of existing embedding ID: dbccac40-17be-4505-8dcd-bd9c03c2b604\n"
          ]
        },
        {
          "output_type": "stream",
          "name": "stdout",
          "text": [
            "Insert of existing embedding ID: dbccac40-17be-4505-8dcd-bd9c03c2b604\n"
          ]
        },
        {
          "output_type": "stream",
          "name": "stderr",
          "text": [
            "WARNING:chromadb.segment.impl.metadata.sqlite:Insert of existing embedding ID: 1662aeef-131b-4723-bca0-8e302d474a40\n"
          ]
        },
        {
          "output_type": "stream",
          "name": "stdout",
          "text": [
            "Insert of existing embedding ID: 1662aeef-131b-4723-bca0-8e302d474a40\n"
          ]
        },
        {
          "output_type": "stream",
          "name": "stderr",
          "text": [
            "WARNING:chromadb.segment.impl.metadata.sqlite:Insert of existing embedding ID: e83dddd7-f041-4afd-a39c-ab313383fc10\n"
          ]
        },
        {
          "output_type": "stream",
          "name": "stdout",
          "text": [
            "Insert of existing embedding ID: e83dddd7-f041-4afd-a39c-ab313383fc10\n"
          ]
        },
        {
          "output_type": "stream",
          "name": "stderr",
          "text": [
            "WARNING:chromadb.segment.impl.metadata.sqlite:Insert of existing embedding ID: f6625d3c-74c0-460f-9b15-7c26079ca585\n"
          ]
        },
        {
          "output_type": "stream",
          "name": "stdout",
          "text": [
            "Insert of existing embedding ID: f6625d3c-74c0-460f-9b15-7c26079ca585\n"
          ]
        },
        {
          "output_type": "stream",
          "name": "stderr",
          "text": [
            "WARNING:chromadb.segment.impl.metadata.sqlite:Insert of existing embedding ID: 0f433bda-409d-410b-8033-a0b028f47b2f\n"
          ]
        },
        {
          "output_type": "stream",
          "name": "stdout",
          "text": [
            "Insert of existing embedding ID: 0f433bda-409d-410b-8033-a0b028f47b2f\n"
          ]
        },
        {
          "output_type": "stream",
          "name": "stderr",
          "text": [
            "WARNING:chromadb.segment.impl.metadata.sqlite:Insert of existing embedding ID: 26f7010c-5a14-43f5-a25e-d1a03c6bb00e\n"
          ]
        },
        {
          "output_type": "stream",
          "name": "stdout",
          "text": [
            "Insert of existing embedding ID: 26f7010c-5a14-43f5-a25e-d1a03c6bb00e\n"
          ]
        },
        {
          "output_type": "stream",
          "name": "stderr",
          "text": [
            "WARNING:chromadb.segment.impl.metadata.sqlite:Insert of existing embedding ID: 551fcda5-e5db-450c-ab47-6cf8f175c5b1\n"
          ]
        },
        {
          "output_type": "stream",
          "name": "stdout",
          "text": [
            "Insert of existing embedding ID: 551fcda5-e5db-450c-ab47-6cf8f175c5b1\n"
          ]
        },
        {
          "output_type": "stream",
          "name": "stderr",
          "text": [
            "WARNING:chromadb.segment.impl.metadata.sqlite:Insert of existing embedding ID: 182d9d0b-5b6a-49b2-9bbd-c11ac3945027\n"
          ]
        },
        {
          "output_type": "stream",
          "name": "stdout",
          "text": [
            "Insert of existing embedding ID: 182d9d0b-5b6a-49b2-9bbd-c11ac3945027\n"
          ]
        },
        {
          "output_type": "stream",
          "name": "stderr",
          "text": [
            "WARNING:chromadb.segment.impl.metadata.sqlite:Insert of existing embedding ID: 9128dbea-9a08-46ff-a5dc-759cbc9cefb5\n"
          ]
        },
        {
          "output_type": "stream",
          "name": "stdout",
          "text": [
            "Insert of existing embedding ID: 9128dbea-9a08-46ff-a5dc-759cbc9cefb5\n"
          ]
        },
        {
          "output_type": "stream",
          "name": "stderr",
          "text": [
            "WARNING:chromadb.segment.impl.metadata.sqlite:Insert of existing embedding ID: cb880718-26d5-4fa5-a91f-e9d908ebe47a\n"
          ]
        },
        {
          "output_type": "stream",
          "name": "stdout",
          "text": [
            "Insert of existing embedding ID: cb880718-26d5-4fa5-a91f-e9d908ebe47a\n"
          ]
        },
        {
          "output_type": "stream",
          "name": "stderr",
          "text": [
            "WARNING:chromadb.segment.impl.metadata.sqlite:Insert of existing embedding ID: baf17e37-582a-45e3-9fee-5e4a3fab3b47\n"
          ]
        },
        {
          "output_type": "stream",
          "name": "stdout",
          "text": [
            "Insert of existing embedding ID: baf17e37-582a-45e3-9fee-5e4a3fab3b47\n"
          ]
        },
        {
          "output_type": "stream",
          "name": "stderr",
          "text": [
            "WARNING:chromadb.segment.impl.metadata.sqlite:Insert of existing embedding ID: 7332c43f-6856-432d-8feb-cc2e1995883f\n"
          ]
        },
        {
          "output_type": "stream",
          "name": "stdout",
          "text": [
            "Insert of existing embedding ID: 7332c43f-6856-432d-8feb-cc2e1995883f\n"
          ]
        },
        {
          "output_type": "stream",
          "name": "stderr",
          "text": [
            "WARNING:chromadb.segment.impl.metadata.sqlite:Insert of existing embedding ID: 46075420-29a5-4377-9586-265de816215e\n"
          ]
        },
        {
          "output_type": "stream",
          "name": "stdout",
          "text": [
            "Insert of existing embedding ID: 46075420-29a5-4377-9586-265de816215e\n"
          ]
        },
        {
          "output_type": "stream",
          "name": "stderr",
          "text": [
            "WARNING:chromadb.segment.impl.metadata.sqlite:Insert of existing embedding ID: 5ca92c7e-09e1-40a8-b1bd-fbd27fb90e79\n"
          ]
        },
        {
          "output_type": "stream",
          "name": "stdout",
          "text": [
            "Insert of existing embedding ID: 5ca92c7e-09e1-40a8-b1bd-fbd27fb90e79\n"
          ]
        },
        {
          "output_type": "stream",
          "name": "stderr",
          "text": [
            "WARNING:chromadb.segment.impl.vector.local_hnsw:Add of existing embedding ID: 4869b8b4-9285-47c6-897d-3b5ab97cb39f\n"
          ]
        },
        {
          "output_type": "stream",
          "name": "stdout",
          "text": [
            "Add of existing embedding ID: 4869b8b4-9285-47c6-897d-3b5ab97cb39f\n"
          ]
        },
        {
          "output_type": "stream",
          "name": "stderr",
          "text": [
            "WARNING:chromadb.segment.impl.vector.local_hnsw:Add of existing embedding ID: 9fede0f9-3038-48ed-aba6-1b7ef46aacad\n"
          ]
        },
        {
          "output_type": "stream",
          "name": "stdout",
          "text": [
            "Add of existing embedding ID: 9fede0f9-3038-48ed-aba6-1b7ef46aacad\n"
          ]
        },
        {
          "output_type": "stream",
          "name": "stderr",
          "text": [
            "WARNING:chromadb.segment.impl.vector.local_hnsw:Add of existing embedding ID: 093a17c0-64ba-4b9c-8bb1-aa29b112beb6\n"
          ]
        },
        {
          "output_type": "stream",
          "name": "stdout",
          "text": [
            "Add of existing embedding ID: 093a17c0-64ba-4b9c-8bb1-aa29b112beb6\n"
          ]
        },
        {
          "output_type": "stream",
          "name": "stderr",
          "text": [
            "WARNING:chromadb.segment.impl.vector.local_hnsw:Add of existing embedding ID: e6eb9e07-8dff-4ef2-823c-45a7da8d8609\n"
          ]
        },
        {
          "output_type": "stream",
          "name": "stdout",
          "text": [
            "Add of existing embedding ID: e6eb9e07-8dff-4ef2-823c-45a7da8d8609\n"
          ]
        },
        {
          "output_type": "stream",
          "name": "stderr",
          "text": [
            "WARNING:chromadb.segment.impl.vector.local_hnsw:Add of existing embedding ID: 553b66e2-9fd9-4558-9eba-db125f72ca96\n"
          ]
        },
        {
          "output_type": "stream",
          "name": "stdout",
          "text": [
            "Add of existing embedding ID: 553b66e2-9fd9-4558-9eba-db125f72ca96\n"
          ]
        },
        {
          "output_type": "stream",
          "name": "stderr",
          "text": [
            "WARNING:chromadb.segment.impl.vector.local_hnsw:Add of existing embedding ID: 0b7f8c1a-7db4-401b-ba36-522d218d58ab\n"
          ]
        },
        {
          "output_type": "stream",
          "name": "stdout",
          "text": [
            "Add of existing embedding ID: 0b7f8c1a-7db4-401b-ba36-522d218d58ab\n"
          ]
        },
        {
          "output_type": "stream",
          "name": "stderr",
          "text": [
            "WARNING:chromadb.segment.impl.vector.local_hnsw:Add of existing embedding ID: 744dbf94-2dbb-4768-a0ad-2a25129e1c33\n"
          ]
        },
        {
          "output_type": "stream",
          "name": "stdout",
          "text": [
            "Add of existing embedding ID: 744dbf94-2dbb-4768-a0ad-2a25129e1c33\n"
          ]
        },
        {
          "output_type": "stream",
          "name": "stderr",
          "text": [
            "WARNING:chromadb.segment.impl.vector.local_hnsw:Add of existing embedding ID: 5b255276-b317-40c8-9572-d5bbdf798945\n"
          ]
        },
        {
          "output_type": "stream",
          "name": "stdout",
          "text": [
            "Add of existing embedding ID: 5b255276-b317-40c8-9572-d5bbdf798945\n"
          ]
        },
        {
          "output_type": "stream",
          "name": "stderr",
          "text": [
            "WARNING:chromadb.segment.impl.vector.local_hnsw:Add of existing embedding ID: dbccac40-17be-4505-8dcd-bd9c03c2b604\n"
          ]
        },
        {
          "output_type": "stream",
          "name": "stdout",
          "text": [
            "Add of existing embedding ID: dbccac40-17be-4505-8dcd-bd9c03c2b604\n"
          ]
        },
        {
          "output_type": "stream",
          "name": "stderr",
          "text": [
            "WARNING:chromadb.segment.impl.vector.local_hnsw:Add of existing embedding ID: 1662aeef-131b-4723-bca0-8e302d474a40\n"
          ]
        },
        {
          "output_type": "stream",
          "name": "stdout",
          "text": [
            "Add of existing embedding ID: 1662aeef-131b-4723-bca0-8e302d474a40\n"
          ]
        },
        {
          "output_type": "stream",
          "name": "stderr",
          "text": [
            "WARNING:chromadb.segment.impl.vector.local_hnsw:Add of existing embedding ID: e83dddd7-f041-4afd-a39c-ab313383fc10\n"
          ]
        },
        {
          "output_type": "stream",
          "name": "stdout",
          "text": [
            "Add of existing embedding ID: e83dddd7-f041-4afd-a39c-ab313383fc10\n"
          ]
        },
        {
          "output_type": "stream",
          "name": "stderr",
          "text": [
            "WARNING:chromadb.segment.impl.vector.local_hnsw:Add of existing embedding ID: f6625d3c-74c0-460f-9b15-7c26079ca585\n"
          ]
        },
        {
          "output_type": "stream",
          "name": "stdout",
          "text": [
            "Add of existing embedding ID: f6625d3c-74c0-460f-9b15-7c26079ca585\n"
          ]
        },
        {
          "output_type": "stream",
          "name": "stderr",
          "text": [
            "WARNING:chromadb.segment.impl.vector.local_hnsw:Add of existing embedding ID: 0f433bda-409d-410b-8033-a0b028f47b2f\n"
          ]
        },
        {
          "output_type": "stream",
          "name": "stdout",
          "text": [
            "Add of existing embedding ID: 0f433bda-409d-410b-8033-a0b028f47b2f\n"
          ]
        },
        {
          "output_type": "stream",
          "name": "stderr",
          "text": [
            "WARNING:chromadb.segment.impl.vector.local_hnsw:Add of existing embedding ID: 26f7010c-5a14-43f5-a25e-d1a03c6bb00e\n"
          ]
        },
        {
          "output_type": "stream",
          "name": "stdout",
          "text": [
            "Add of existing embedding ID: 26f7010c-5a14-43f5-a25e-d1a03c6bb00e\n"
          ]
        },
        {
          "output_type": "stream",
          "name": "stderr",
          "text": [
            "WARNING:chromadb.segment.impl.vector.local_hnsw:Add of existing embedding ID: 551fcda5-e5db-450c-ab47-6cf8f175c5b1\n"
          ]
        },
        {
          "output_type": "stream",
          "name": "stdout",
          "text": [
            "Add of existing embedding ID: 551fcda5-e5db-450c-ab47-6cf8f175c5b1\n"
          ]
        },
        {
          "output_type": "stream",
          "name": "stderr",
          "text": [
            "WARNING:chromadb.segment.impl.vector.local_hnsw:Add of existing embedding ID: 182d9d0b-5b6a-49b2-9bbd-c11ac3945027\n"
          ]
        },
        {
          "output_type": "stream",
          "name": "stdout",
          "text": [
            "Add of existing embedding ID: 182d9d0b-5b6a-49b2-9bbd-c11ac3945027\n"
          ]
        },
        {
          "output_type": "stream",
          "name": "stderr",
          "text": [
            "WARNING:chromadb.segment.impl.vector.local_hnsw:Add of existing embedding ID: 9128dbea-9a08-46ff-a5dc-759cbc9cefb5\n"
          ]
        },
        {
          "output_type": "stream",
          "name": "stdout",
          "text": [
            "Add of existing embedding ID: 9128dbea-9a08-46ff-a5dc-759cbc9cefb5\n"
          ]
        },
        {
          "output_type": "stream",
          "name": "stderr",
          "text": [
            "WARNING:chromadb.segment.impl.vector.local_hnsw:Add of existing embedding ID: cb880718-26d5-4fa5-a91f-e9d908ebe47a\n"
          ]
        },
        {
          "output_type": "stream",
          "name": "stdout",
          "text": [
            "Add of existing embedding ID: cb880718-26d5-4fa5-a91f-e9d908ebe47a\n"
          ]
        },
        {
          "output_type": "stream",
          "name": "stderr",
          "text": [
            "WARNING:chromadb.segment.impl.vector.local_hnsw:Add of existing embedding ID: baf17e37-582a-45e3-9fee-5e4a3fab3b47\n"
          ]
        },
        {
          "output_type": "stream",
          "name": "stdout",
          "text": [
            "Add of existing embedding ID: baf17e37-582a-45e3-9fee-5e4a3fab3b47\n"
          ]
        },
        {
          "output_type": "stream",
          "name": "stderr",
          "text": [
            "WARNING:chromadb.segment.impl.vector.local_hnsw:Add of existing embedding ID: 7332c43f-6856-432d-8feb-cc2e1995883f\n"
          ]
        },
        {
          "output_type": "stream",
          "name": "stdout",
          "text": [
            "Add of existing embedding ID: 7332c43f-6856-432d-8feb-cc2e1995883f\n"
          ]
        },
        {
          "output_type": "stream",
          "name": "stderr",
          "text": [
            "WARNING:chromadb.segment.impl.vector.local_hnsw:Add of existing embedding ID: 46075420-29a5-4377-9586-265de816215e\n"
          ]
        },
        {
          "output_type": "stream",
          "name": "stdout",
          "text": [
            "Add of existing embedding ID: 46075420-29a5-4377-9586-265de816215e\n"
          ]
        },
        {
          "output_type": "stream",
          "name": "stderr",
          "text": [
            "WARNING:chromadb.segment.impl.vector.local_hnsw:Add of existing embedding ID: 5ca92c7e-09e1-40a8-b1bd-fbd27fb90e79\n"
          ]
        },
        {
          "output_type": "stream",
          "name": "stdout",
          "text": [
            "Add of existing embedding ID: 5ca92c7e-09e1-40a8-b1bd-fbd27fb90e79\n"
          ]
        }
      ],
      "source": [
        "from llama_index.core import SimpleDirectoryReader\n",
        "from llama_index.core.ingestion import IngestionPipeline\n",
        "from llama_index.core.node_parser import TokenTextSplitter\n",
        "from llama_index.core.extractors import TitleExtractor\n",
        "\n",
        "pipeline = IngestionPipeline(transformations=[TokenTextSplitter()])\n",
        "\n",
        "for movie, wiki_doc in zip(movie_list, wiki_docs):\n",
        "    nodes = pipeline.run(documents=wiki_docs)\n",
        "    for node in nodes:\n",
        "        node.metadata = {\"title\" : movie}\n",
        "    index.insert_nodes(nodes)"
      ]
    },
    {
      "cell_type": "markdown",
      "source": [
        "####❓ Question #1:\n",
        "\n",
        "What `metadata` fields will the nodes in our index have?\n",
        "\n",
        "Please write the code to find this information."
      ],
      "metadata": {
        "id": "biVzC-I4UAmB"
      }
    },
    {
      "cell_type": "code",
      "source": [
        "### YOUR CODE HERE\n",
        "\n",
        "#start_index = 0\n",
        "\n",
        "# Ensure there are nodes in the list and the start index is valid\n",
        "#if nodes and 0 <= start_index < len(nodes):\n",
        "   # for index in range(start_index, len(nodes)):\n",
        "        #print(f\"Metadata keys of node[{index}]:\", nodes[index].metadata.keys())\n",
        "#else:\n",
        " #   print(\"No nodes available or start index is out of range.\")"
      ],
      "metadata": {
        "id": "mt1lhxEnUKxO"
      },
      "execution_count": 16,
      "outputs": []
    },
    {
      "cell_type": "markdown",
      "source": [
        "### Persisting and Loading Stored Index with Weights and Biases\n",
        "\n",
        "Now we can utilize a powerful feature of Weights and Biases - index and artifact versioning!\n",
        "\n",
        "We can persist our index to WandB to be used and loaded later!"
      ],
      "metadata": {
        "id": "Sfbon1BwSLFS"
      }
    },
    {
      "cell_type": "code",
      "source": [
        "wandb_callback.persist_index(index, index_name=\"dune-index-chromadb\")"
      ],
      "metadata": {
        "colab": {
          "base_uri": "https://localhost:8080/"
        },
        "id": "PHJd00J3G48_",
        "outputId": "b297744f-1f71-4c2c-ebf5-26a249dd6f2f"
      },
      "execution_count": 17,
      "outputs": [
        {
          "output_type": "stream",
          "name": "stderr",
          "text": [
            "\u001b[34m\u001b[1mwandb\u001b[0m: Adding directory to artifact (/content/wandb/run-20240309_182309-m3vpy5ue/files/storage)... Done. 0.0s\n"
          ]
        }
      ]
    },
    {
      "cell_type": "markdown",
      "source": [
        "Now we can load our index from WandB, which is a truly powerful tool!"
      ],
      "metadata": {
        "id": "jvpHLt8UShKa"
      }
    },
    {
      "cell_type": "code",
      "source": [
        "from llama_index.core import load_index_from_storage\n",
        "\n",
        "storage_context = wandb_callback.load_storage_context(\n",
        "    artifact_url=\"anuraglahon/aie1-llama-index-demo/dune-index-chromadb:v3\"\n",
        ")"
      ],
      "metadata": {
        "colab": {
          "base_uri": "https://localhost:8080/"
        },
        "id": "FDZLmqTDHDrZ",
        "outputId": "86b81496-f3e2-46cf-8d92-e56f60286f73"
      },
      "execution_count": 19,
      "outputs": [
        {
          "output_type": "stream",
          "name": "stderr",
          "text": [
            "\u001b[34m\u001b[1mwandb\u001b[0m:   4 of 4 files downloaded.  \n"
          ]
        }
      ]
    },
    {
      "cell_type": "markdown",
      "source": [
        "####❓ Question #2:\n",
        "\n",
        "Provide a screenshot of your index version history as shown in WandB.\n",
        "\n",
        "[link text](https://github.com/anuraglahon16/AI-Engineering/blob/main/Screen%20Shot%202024-03-09%20at%2012.53.16%20AM.png)\n"
      ],
      "metadata": {
        "id": "G0pwSiOxUYCE"
      }
    },
    {
      "cell_type": "markdown",
      "metadata": {
        "id": "YUa5sHMsSV__"
      },
      "source": [
        "### Auto Retriever Functional Tool\n",
        "\n",
        "This tool will leverage OpenAI's functional endpoint to select the correct metadata filter and query the filtered index - only looking at nodes with the desired metadata.\n",
        "\n",
        "A simplified diagram: ![image](https://i.imgur.com/AICDPav.png)"
      ]
    },
    {
      "cell_type": "markdown",
      "metadata": {
        "id": "Z2HQHY3pSV__"
      },
      "source": [
        "First, we need to create our `VectoreStoreInfo` object which will hold all the relevant metadata we need for each component (in this case title metadata).\n",
        "\n",
        "Notice that you need to include it in a text list."
      ]
    },
    {
      "cell_type": "code",
      "execution_count": 20,
      "metadata": {
        "id": "KoAYxbdsSV__"
      },
      "outputs": [],
      "source": [
        "from llama_index.core.tools import FunctionTool\n",
        "from llama_index.core.vector_stores.types import (\n",
        "    VectorStoreInfo,\n",
        "    MetadataInfo,\n",
        "    ExactMatchFilter,\n",
        "    MetadataFilters,\n",
        ")\n",
        "from llama_index.core.retrievers import VectorIndexRetriever\n",
        "from llama_index.core.query_engine import RetrieverQueryEngine\n",
        "\n",
        "from typing import List, Tuple, Any\n",
        "from pydantic import BaseModel, Field\n",
        "\n",
        "top_k = 3\n",
        "\n",
        "vector_store_info = VectorStoreInfo(\n",
        "    content_info=\"semantic information about movies\",\n",
        "    metadata_info=[MetadataInfo(\n",
        "        name=\"title\",\n",
        "        type=\"str\",\n",
        "        description=\"title of the movie, one of ['Dune (2021 film)', 'Dune: Part 2']\",\n",
        "    )]\n",
        ")"
      ]
    },
    {
      "cell_type": "markdown",
      "metadata": {
        "id": "NEjK7jcsSV__"
      },
      "source": [
        "Now we'll create our base PyDantic object that we can use to ensure compatability with our application layer. This verifies that the response from the OpenAI endpoint conforms to this schema."
      ]
    },
    {
      "cell_type": "code",
      "execution_count": 21,
      "metadata": {
        "id": "yixkwF8zSV__"
      },
      "outputs": [],
      "source": [
        "class AutoRetrieveModel(BaseModel):\n",
        "    query: str = Field(..., description=\"natural language query string\")\n",
        "    filter_key_list: List[str] = Field(\n",
        "        ..., description=\"List of metadata filter field names\"\n",
        "    )\n",
        "    filter_value_list: List[str] = Field(\n",
        "        ...,\n",
        "        description=(\n",
        "            \"List of metadata filter field values (corresponding to names specified in filter_key_list)\"\n",
        "        )\n",
        "    )"
      ]
    },
    {
      "cell_type": "markdown",
      "metadata": {
        "id": "Ep6ORS3FSV__"
      },
      "source": [
        "Now we can build our function that we will use to query the functional endpoint."
      ]
    },
    {
      "cell_type": "code",
      "execution_count": 22,
      "metadata": {
        "id": "y8sPThxlSV__"
      },
      "outputs": [],
      "source": [
        "def auto_retrieve_fn(\n",
        "    query: str, filter_key_list: List[str], filter_value_list: List[str]\n",
        "):\n",
        "    \"\"\"Auto retrieval function.\n",
        "\n",
        "    Performs auto-retrieval from a vector database, and then applies a set of filters.\n",
        "\n",
        "    \"\"\"\n",
        "    query = query or \"Query\"\n",
        "\n",
        "    exact_match_filters = [\n",
        "        ExactMatchFilter(key=k, value=v)\n",
        "        for k, v in zip(filter_key_list, filter_value_list)\n",
        "    ]\n",
        "    retriever = VectorIndexRetriever(\n",
        "        index, filters=MetadataFilters(filters=exact_match_filters), top_k=top_k\n",
        "    )\n",
        "    query_engine = RetrieverQueryEngine.from_args(retriever)\n",
        "\n",
        "    response = query_engine.query(query)\n",
        "    return str(response)"
      ]
    },
    {
      "cell_type": "markdown",
      "metadata": {
        "id": "Yt4BV6oISV__"
      },
      "source": [
        "Now we need to wrap our system in a tool in order to integrate it into the larger application.\n",
        "\n",
        "Source Code Here:\n",
        "- [`FunctionTool`](https://github.com/jerryjliu/llama_index/blob/d24767b0812ac56104497d8f59095eccbe9f2b08/llama_index/tools/function_tool.py#L21)"
      ]
    },
    {
      "cell_type": "code",
      "execution_count": 23,
      "metadata": {
        "id": "U4lS1NqeSV__"
      },
      "outputs": [],
      "source": [
        "description = f\"\"\"\\\n",
        "Use this tool to look up semantic information about films.\n",
        "The vector database schema is given below:\n",
        "{vector_store_info.json()}\n",
        "\"\"\"\n",
        "\n",
        "auto_retrieve_tool = FunctionTool.from_defaults(\n",
        "    fn=auto_retrieve_fn,\n",
        "    name=\"semantic-film-info\",\n",
        "    description=description,\n",
        "    fn_schema=AutoRetrieveModel\n",
        ")"
      ]
    },
    {
      "cell_type": "markdown",
      "source": [
        "####❓ Question #3:\n",
        "\n",
        "Is the text in the description of our `FunctionTool` important or not? Please explain your answer.\n",
        "\n",
        "Descriptions are crucial for clarity, documentation, usability, maintainability, and facilitating community and collaboration. They offer users and developers insight into what the tool does, how to use it, and how it integrates into broader workflows, making them an essential component of any software tool or library."
      ],
      "metadata": {
        "id": "9YkXmlexUnP_"
      }
    },
    {
      "cell_type": "markdown",
      "metadata": {
        "id": "ZblimmXVSV__"
      },
      "source": [
        "All that's left to do is attach the tool to an OpenAIAgent and let it rip!\n",
        "\n",
        "Source Code Here:\n",
        "- [`OpenAIAgent`](https://github.com/jerryjliu/llama_index/blob/d24767b0812ac56104497d8f59095eccbe9f2b08/llama_index/agent/openai_agent.py#L361)"
      ]
    },
    {
      "cell_type": "code",
      "execution_count": 24,
      "metadata": {
        "id": "W2hafCTxSV__"
      },
      "outputs": [],
      "source": [
        "from llama_index.agent.openai import OpenAIAgent\n",
        "\n",
        "agent = OpenAIAgent.from_tools(\n",
        "    tools=[auto_retrieve_tool],\n",
        "    verbose=True,\n",
        ")"
      ]
    },
    {
      "cell_type": "code",
      "execution_count": 25,
      "metadata": {
        "id": "DBJWDBK5SV__",
        "outputId": "3de398bd-e008-4403-8c80-d20dcc247871",
        "colab": {
          "base_uri": "https://localhost:8080/"
        }
      },
      "outputs": [
        {
          "output_type": "stream",
          "name": "stdout",
          "text": [
            "Added user message to memory: Who starred in the 2021 film?\n",
            "=== Calling Function ===\n",
            "Calling function: semantic-film-info with args: {\"query\":\"cast\",\"filter_key_list\":[\"title\"],\"filter_value_list\":[\"Dune (2021 film)\"]}\n",
            "Got output: The casting process for the film involved various actors being offered roles directly by the director, accepting roles without reading the script, and some expressing their excitement to work with the director based on their admiration for his previous work. The casting director compiled audition tapes for secondary roles, and some actors like Zendaya were chosen based on their chemistry with the lead actor. Additionally, there were instances where actors contacted the director expressing their interest in being part of the film, leading to their casting in specific roles.\n",
            "========================\n",
            "\n"
          ]
        },
        {
          "output_type": "stream",
          "name": "stderr",
          "text": [
            "\u001b[34m\u001b[1mwandb\u001b[0m: Logged trace tree to W&B.\n"
          ]
        },
        {
          "output_type": "stream",
          "name": "stdout",
          "text": [
            "The casting for the 2021 film \"Dune\" involved various actors being offered roles directly by the director, some accepting roles without reading the script, and others expressing their excitement to work with the director based on their admiration for his previous work. The casting director compiled audition tapes for secondary roles, and some actors like Zendaya were chosen based on their chemistry with the lead actor. Additionally, there were instances where actors contacted the director expressing their interest in being part of the film, leading to their casting in specific roles.\n"
          ]
        }
      ],
      "source": [
        "response = agent.chat(\"Who starred in the 2021 film?\")\n",
        "print(str(response))"
      ]
    },
    {
      "cell_type": "markdown",
      "source": [
        "# 🤝 Breakout Room #2"
      ],
      "metadata": {
        "id": "kbhAT68RSvnT"
      }
    },
    {
      "cell_type": "markdown",
      "metadata": {
        "id": "yJcJL7VXSV__"
      },
      "source": [
        "## Task 1: Quantitative RAG Pipeline with NL2SQL Tooling\n",
        "\n",
        "We'll walk through the steps of creating a natural language to SQL system in the following section.\n",
        "\n",
        "> NOTICE: This does not have parsing on the inputs or intermediary calls to ensure that users are using safe SQL queries. Use this with caution in a production environment without adding specific guardrails from either side of the application."
      ]
    },
    {
      "cell_type": "markdown",
      "metadata": {
        "id": "SsVcM0-4SV__"
      },
      "source": [
        "The next few steps should be largely straightforward, we'll want to:\n",
        "\n",
        "1. Read in our `.csv` files into `pd.DataFrame` objects\n",
        "2. Create an in-memory `sqlite` powered `sqlalchemy` engine\n",
        "3. Cast our `pd.DataFrame` objects to the SQL engine\n",
        "4. Create an `SQLDatabase` object through LlamaIndex\n",
        "5. Use that to create a `QueryEngineTool` that we can interact with through the `NLSQLTableQueryEngine`!\n",
        "\n",
        "If you get stuck, please consult the documentation."
      ]
    },
    {
      "cell_type": "code",
      "source": [
        "!wget https://raw.githubusercontent.com/AI-Maker-Space/DataRepository/main/dune1.csv"
      ],
      "metadata": {
        "id": "WwWOygTqlNBh",
        "colab": {
          "base_uri": "https://localhost:8080/"
        },
        "outputId": "a923d01a-50ee-46dc-af48-e3e27bf2c4c9"
      },
      "execution_count": 26,
      "outputs": [
        {
          "output_type": "stream",
          "name": "stdout",
          "text": [
            "--2024-03-09 18:24:15--  https://raw.githubusercontent.com/AI-Maker-Space/DataRepository/main/dune1.csv\n",
            "Resolving raw.githubusercontent.com (raw.githubusercontent.com)... 185.199.109.133, 185.199.110.133, 185.199.108.133, ...\n",
            "Connecting to raw.githubusercontent.com (raw.githubusercontent.com)|185.199.109.133|:443... connected.\n",
            "HTTP request sent, awaiting response... 200 OK\n",
            "Length: 133391 (130K) [text/plain]\n",
            "Saving to: ‘dune1.csv’\n",
            "\n",
            "dune1.csv           100%[===================>] 130.26K  --.-KB/s    in 0.02s   \n",
            "\n",
            "2024-03-09 18:24:15 (5.92 MB/s) - ‘dune1.csv’ saved [133391/133391]\n",
            "\n"
          ]
        }
      ]
    },
    {
      "cell_type": "code",
      "source": [
        "!wget https://raw.githubusercontent.com/AI-Maker-Space/DataRepository/main/dune2.csv"
      ],
      "metadata": {
        "id": "TD_9LPL9lTlG",
        "colab": {
          "base_uri": "https://localhost:8080/"
        },
        "outputId": "86f9f370-2193-46e6-ab92-5c72ceec2fcf"
      },
      "execution_count": 27,
      "outputs": [
        {
          "output_type": "stream",
          "name": "stdout",
          "text": [
            "--2024-03-09 18:24:15--  https://raw.githubusercontent.com/AI-Maker-Space/DataRepository/main/dune2.csv\n",
            "Resolving raw.githubusercontent.com (raw.githubusercontent.com)... 185.199.108.133, 185.199.109.133, 185.199.110.133, ...\n",
            "Connecting to raw.githubusercontent.com (raw.githubusercontent.com)|185.199.108.133|:443... connected.\n",
            "HTTP request sent, awaiting response... 200 OK\n",
            "Length: 111843 (109K) [text/plain]\n",
            "Saving to: ‘dune2.csv’\n",
            "\n",
            "dune2.csv           100%[===================>] 109.22K  --.-KB/s    in 0.02s   \n",
            "\n",
            "2024-03-09 18:24:15 (4.97 MB/s) - ‘dune2.csv’ saved [111843/111843]\n",
            "\n"
          ]
        }
      ]
    },
    {
      "cell_type": "markdown",
      "metadata": {
        "id": "8PUg-ZuTSWAC"
      },
      "source": [
        "#### Read `.csv` Into Pandas"
      ]
    },
    {
      "cell_type": "code",
      "execution_count": 28,
      "metadata": {
        "id": "52Hd8PM4SWAC"
      },
      "outputs": [],
      "source": [
        "import pandas as pd\n",
        "\n",
        "dune1_df = pd.read_csv(\"./dune1.csv\")\n",
        "dune2_df = pd.read_csv(\"./dune2.csv\")"
      ]
    },
    {
      "cell_type": "markdown",
      "metadata": {
        "id": "fPTNyqmpSWAC"
      },
      "source": [
        "#### Create SQLAlchemy engine with SQLite"
      ]
    },
    {
      "cell_type": "code",
      "execution_count": 29,
      "metadata": {
        "id": "4lfuPKYBSWAC"
      },
      "outputs": [],
      "source": [
        "from sqlalchemy import create_engine\n",
        "\n",
        "engine = create_engine(\"sqlite+pysqlite:///:memory:\")"
      ]
    },
    {
      "cell_type": "markdown",
      "metadata": {
        "id": "iJiYiSuHSWAC"
      },
      "source": [
        "#### Convert `pd.DataFrame` to SQL tables"
      ]
    },
    {
      "cell_type": "code",
      "execution_count": 30,
      "metadata": {
        "id": "W-96asUHSWAC",
        "outputId": "f9d60b88-1c86-41e4-8f32-977d26caf2f5",
        "colab": {
          "base_uri": "https://localhost:8080/"
        }
      },
      "outputs": [
        {
          "output_type": "execute_result",
          "data": {
            "text/plain": [
              "274"
            ]
          },
          "metadata": {},
          "execution_count": 30
        }
      ],
      "source": [
        "dune1_df.to_sql(\n",
        "    \"Dune (2021 film)\",\n",
        "    engine\n",
        ")"
      ]
    },
    {
      "cell_type": "code",
      "execution_count": 31,
      "metadata": {
        "id": "ZwOi1RE1SWAC",
        "outputId": "7251dc7b-8972-4f92-f1a2-c2376e5c78f2",
        "colab": {
          "base_uri": "https://localhost:8080/"
        }
      },
      "outputs": [
        {
          "output_type": "execute_result",
          "data": {
            "text/plain": [
              "175"
            ]
          },
          "metadata": {},
          "execution_count": 31
        }
      ],
      "source": [
        "dune2_df.to_sql(\n",
        "    \"Dune: Part 2\",\n",
        "    engine\n",
        ")"
      ]
    },
    {
      "cell_type": "markdown",
      "metadata": {
        "id": "pibA9qT7SWAC"
      },
      "source": [
        "#### Construct a `SQLDatabase` index\n",
        "\n",
        "Source Code Here:\n",
        "- [`SQLDatabase`](https://github.com/jerryjliu/llama_index/blob/d24767b0812ac56104497d8f59095eccbe9f2b08/llama_index/langchain_helpers/sql_wrapper.py#L9)"
      ]
    },
    {
      "cell_type": "code",
      "execution_count": 32,
      "metadata": {
        "id": "yeDYpR1LSWAD"
      },
      "outputs": [],
      "source": [
        "from llama_index.core import SQLDatabase\n",
        "\n",
        "sql_database = SQLDatabase(\n",
        "    engine=engine,\n",
        "    include_tables=[\"Dune (2021 film)\", \"Dune: Part 2\"]\n",
        ")"
      ]
    },
    {
      "cell_type": "markdown",
      "metadata": {
        "id": "-7VfZBenSWAD"
      },
      "source": [
        "#### Create the NLSQLTableQueryEngine interface for all added SQL tables\n",
        "\n",
        "Source Code Here:\n",
        "- [`NLSQLTableQueryEngine`](https://github.com/jerryjliu/llama_index/blob/d24767b0812ac56104497d8f59095eccbe9f2b08/llama_index/indices/struct_store/sql_query.py#L75C1-L75C1)"
      ]
    },
    {
      "cell_type": "code",
      "execution_count": 33,
      "metadata": {
        "id": "zQWSdMtrSWAD"
      },
      "outputs": [],
      "source": [
        "from llama_index.core.indices.struct_store.sql_query import NLSQLTableQueryEngine\n",
        "\n",
        "sql_query_engine = NLSQLTableQueryEngine(\n",
        "    sql_database=sql_database,\n",
        "    tables=[\"Dune (2021 film)\", \"Dune: Part 2\"],\n",
        ")"
      ]
    },
    {
      "cell_type": "markdown",
      "metadata": {
        "id": "yu8WfwuTSWAD"
      },
      "source": [
        "#### Wrap It All Up in a `QueryEngineTool`\n",
        "\n",
        "You'll want to ensure you have a descriptive...description.\n",
        "\n",
        "An example is provided here:\n",
        "\n",
        "```\n",
        "Useful for translating a natural language query into a SQL query over a table containing:\n",
        "John Wick 1, containing information related to reviews of the first John Wick movie, called John Wick\n",
        "John Wick 2, containing information related to reviews of the second John Wick movie, called John Wick: Chapter 2\n",
        "John Wick 3, containing information related to reviews of the third John Wick movie, called John Wick: Chatper 3 - Parabellum\n",
        "John Wick 4, containing information related to reviews of the fourth John Wick movie, called John Wick: Chatper 4\n",
        "```\n",
        "\n",
        "Sorce Code Here:\n",
        "\n",
        "- [`QueryEngineTool`](https://github.com/jerryjliu/llama_index/blob/d24767b0812ac56104497d8f59095eccbe9f2b08/llama_index/tools/query_engine.py#L13)"
      ]
    },
    {
      "cell_type": "markdown",
      "source": [
        "####🏗️ Activity #1:\n",
        "\n",
        "Please write a Natural Language Description for the tables that we are using today."
      ],
      "metadata": {
        "id": "yDB2m2dnU54L"
      }
    },
    {
      "cell_type": "code",
      "source": [
        "DESCRIPTION = \"\"\"\\\n",
        "Designed for interpreting natural language queries, this tool provides access to a comprehensive database of reviews for the 'Dune' movie. It encompasses critical evaluations and audience feedback, addressing aspects such as storytelling depth, world-building, visual effects, and character arcs. This facilitates a nuanced exploration of the movie's reception and thematic richness, making it easier for users to engage with and analyze the cinematic adaptation of Frank Herbert's iconic sci-fi novel.\n",
        "\"\"\""
      ],
      "metadata": {
        "id": "4n567cXVVCtX"
      },
      "execution_count": 34,
      "outputs": []
    },
    {
      "cell_type": "code",
      "execution_count": 35,
      "metadata": {
        "id": "y-mmcBbLSWAD"
      },
      "outputs": [],
      "source": [
        "from llama_index.core.tools.query_engine import QueryEngineTool\n",
        "\n",
        "sql_tool = QueryEngineTool.from_defaults(\n",
        "    query_engine=sql_query_engine,\n",
        "    name=\"sql-query\",\n",
        "    description=DESCRIPTION,\n",
        ")"
      ]
    },
    {
      "cell_type": "code",
      "execution_count": 36,
      "metadata": {
        "id": "feOrlq4XSWAD"
      },
      "outputs": [],
      "source": [
        "agent = OpenAIAgent.from_tools(\n",
        "    tools=[sql_tool],\n",
        "    verbose=True\n",
        ")"
      ]
    },
    {
      "cell_type": "code",
      "execution_count": 37,
      "metadata": {
        "id": "iT4G6stBSWAD",
        "outputId": "d5f227ec-f42a-4d68-f113-0cb2c0db08c7",
        "colab": {
          "base_uri": "https://localhost:8080/"
        }
      },
      "outputs": [
        {
          "output_type": "stream",
          "name": "stdout",
          "text": [
            "Added user message to memory: What is the average rating of the 2nd Dune movie?\n",
            "=== Calling Function ===\n",
            "Calling function: sql-query with args: {\"input\":\"SELECT AVG(rating) FROM dune_reviews WHERE movie_number = 2\"}\n",
            "Got output: The average rating for \"Dune: Part 2\" is approximately 8.71.\n",
            "========================\n",
            "\n"
          ]
        },
        {
          "output_type": "stream",
          "name": "stderr",
          "text": [
            "\u001b[34m\u001b[1mwandb\u001b[0m: Logged trace tree to W&B.\n"
          ]
        }
      ],
      "source": [
        "response = agent.chat(\"What is the average rating of the 2nd Dune movie?\")"
      ]
    },
    {
      "cell_type": "code",
      "execution_count": 38,
      "metadata": {
        "id": "NhsoxOpkSWAD",
        "outputId": "67cc6102-d811-4290-8889-7a49f2ff6830",
        "colab": {
          "base_uri": "https://localhost:8080/"
        }
      },
      "outputs": [
        {
          "output_type": "stream",
          "name": "stdout",
          "text": [
            "The average rating for the 2nd Dune movie, \"Dune: Part 2,\" is approximately 8.71.\n"
          ]
        }
      ],
      "source": [
        "print(str(response))"
      ]
    },
    {
      "cell_type": "markdown",
      "metadata": {
        "id": "-2LOixbcSWAD"
      },
      "source": [
        "### Task 2: Combined RAG Pipeline\n",
        "\n",
        "Now, we can simply add our tools into the `OpenAIAgent`, and off we go!"
      ]
    },
    {
      "cell_type": "code",
      "execution_count": 39,
      "metadata": {
        "id": "uxFHM2l2SWAD"
      },
      "outputs": [],
      "source": [
        "dune_agent = OpenAIAgent.from_tools(\n",
        "    tools=[auto_retrieve_tool, sql_tool],\n",
        "    verbose=True\n",
        ")"
      ]
    },
    {
      "cell_type": "code",
      "execution_count": 40,
      "metadata": {
        "id": "mYVHuBf9SWAD",
        "outputId": "a1706e1b-4b6c-4434-ae99-de650026b953",
        "colab": {
          "base_uri": "https://localhost:8080/"
        }
      },
      "outputs": [
        {
          "output_type": "stream",
          "name": "stdout",
          "text": [
            "Added user message to memory: What is the lowest rating of the 1st film?\n",
            "=== Calling Function ===\n",
            "Calling function: sql-query with args: {\"input\":\"What is the lowest rating of the 1st film?\"}\n",
            "Got output: The lowest rating of the 1st film \"Dune (2021)\" is 1.0.\n",
            "========================\n",
            "\n"
          ]
        },
        {
          "output_type": "stream",
          "name": "stderr",
          "text": [
            "\u001b[34m\u001b[1mwandb\u001b[0m: Logged trace tree to W&B.\n"
          ]
        }
      ],
      "source": [
        "response = dune_agent.chat(\"What is the lowest rating of the 1st film?\")"
      ]
    },
    {
      "cell_type": "code",
      "execution_count": 41,
      "metadata": {
        "id": "k0w0VbomSWAD",
        "outputId": "716ac28a-7034-4143-bf24-2b7737c8aa6c",
        "colab": {
          "base_uri": "https://localhost:8080/"
        }
      },
      "outputs": [
        {
          "output_type": "stream",
          "name": "stdout",
          "text": [
            "The lowest rating of the 1st film \"Dune (2021)\" is 1.0.\n"
          ]
        }
      ],
      "source": [
        "print(str(response))"
      ]
    },
    {
      "cell_type": "code",
      "execution_count": 42,
      "metadata": {
        "id": "BJvN-vtJSWAD",
        "outputId": "d28f8e29-d3eb-4a84-9e8d-226322030ce3",
        "colab": {
          "base_uri": "https://localhost:8080/"
        }
      },
      "outputs": [
        {
          "output_type": "stream",
          "name": "stdout",
          "text": [
            "Added user message to memory: What planet does the 1st Dune movie take place on?\n",
            "=== Calling Function ===\n",
            "Calling function: semantic-film-info with args: {\"query\":\"planet where the 1st Dune movie takes place\",\"filter_key_list\":[\"title\"],\"filter_value_list\":[\"Dune (2021 film)\"]}\n",
            "Got output: Arrakis\n",
            "========================\n",
            "\n"
          ]
        },
        {
          "output_type": "stream",
          "name": "stderr",
          "text": [
            "\u001b[34m\u001b[1mwandb\u001b[0m: Logged trace tree to W&B.\n"
          ]
        }
      ],
      "source": [
        "response = dune_agent.chat(\"What planet does the 1st Dune movie take place on?\")"
      ]
    },
    {
      "cell_type": "code",
      "execution_count": 43,
      "metadata": {
        "id": "F74wGv6NSWAD",
        "outputId": "fddb115b-44b4-40f5-cff9-f30530324d39",
        "colab": {
          "base_uri": "https://localhost:8080/"
        }
      },
      "outputs": [
        {
          "output_type": "stream",
          "name": "stdout",
          "text": [
            "The 1st Dune movie takes place on the planet Arrakis.\n"
          ]
        }
      ],
      "source": [
        "print(str(response))"
      ]
    },
    {
      "cell_type": "code",
      "source": [
        "response = dune_agent.chat(\"Calculate the average review of each movie - and then discuss how the average review changed over time.\")"
      ],
      "metadata": {
        "colab": {
          "base_uri": "https://localhost:8080/"
        },
        "id": "Lvat4hmkvn3N",
        "outputId": "1360b847-5eb0-41de-ed5f-42f598f76689"
      },
      "execution_count": 44,
      "outputs": [
        {
          "output_type": "stream",
          "name": "stdout",
          "text": [
            "Added user message to memory: Calculate the average review of each movie - and then discuss how the average review changed over time.\n",
            "=== Calling Function ===\n",
            "Calling function: sql-query with args: {\"input\": \"Calculate the average review of each movie\"}\n",
            "Got output: The average review for \"Dune: Part 2\" is 8.71, while the average review for \"Dune (2021 film)\" is 8.34.\n",
            "========================\n",
            "\n",
            "=== Calling Function ===\n",
            "Calling function: sql-query with args: {\"input\": \"Discuss how the average review changed over time\"}\n",
            "Got output: The average review rating for the film \"Dune (2021)\" varied over time. It started off strong in October 2021 with ratings of 9.8 and 10.0, but saw a decline in March 2022 and 2023 with ratings of 6.0. There were also some low ratings in December 2021 and February 2024. Overall, the average review rating fluctuated between 1.0 and 10.0 throughout the different months.\n",
            "========================\n",
            "\n"
          ]
        },
        {
          "output_type": "stream",
          "name": "stderr",
          "text": [
            "\u001b[34m\u001b[1mwandb\u001b[0m: Logged trace tree to W&B.\n"
          ]
        }
      ]
    },
    {
      "cell_type": "code",
      "source": [
        "print(str(response))"
      ],
      "metadata": {
        "colab": {
          "base_uri": "https://localhost:8080/"
        },
        "id": "BEOpeuAovtZM",
        "outputId": "13716391-2f01-4481-c2b2-e7d49d90f726"
      },
      "execution_count": 45,
      "outputs": [
        {
          "output_type": "stream",
          "name": "stdout",
          "text": [
            "The average review for \"Dune: Part 2\" is 8.71, while the average review for \"Dune (2021 film)\" is 8.34.\n",
            "\n",
            "The average review rating for the film \"Dune (2021)\" varied over time. It started off strong in October 2021 with ratings of 9.8 and 10.0, but saw a decline in March 2022 and 2023 with ratings of 6.0. There were also some low ratings in December 2021 and February 2024. Overall, the average review rating fluctuated between 1.0 and 10.0 throughout the different months.\n"
          ]
        }
      ]
    },
    {
      "cell_type": "markdown",
      "source": [
        "####❓ Question #4:\n",
        "\n",
        "How can you verify which tool was used for which query?"
      ],
      "metadata": {
        "id": "WUVzyUtKqdUf"
      }
    },
    {
      "cell_type": "code",
      "source": [
        "for source in response.sources:\n",
        "    # Extracting the tool name for each source\n",
        "    tool_name = source.tool_name\n",
        "    print(f\"Tool Used: {tool_name}\")"
      ],
      "metadata": {
        "colab": {
          "base_uri": "https://localhost:8080/"
        },
        "id": "dc5LdyL9cRXm",
        "outputId": "e9fee121-ad45-4791-fe32-24ceeaa777d8"
      },
      "execution_count": 46,
      "outputs": [
        {
          "output_type": "stream",
          "name": "stdout",
          "text": [
            "Tool Used: sql-query\n",
            "Tool Used: sql-query\n"
          ]
        }
      ]
    },
    {
      "cell_type": "code",
      "execution_count": 47,
      "metadata": {
        "id": "D3ELqzOvSWAD"
      },
      "outputs": [],
      "source": [
        "wandb_callback.finish()"
      ]
    }
  ],
  "metadata": {
    "kernelspec": {
      "display_name": "Python 3",
      "language": "python",
      "name": "python3"
    },
    "language_info": {
      "codemirror_mode": {
        "name": "ipython",
        "version": 3
      },
      "file_extension": ".py",
      "mimetype": "text/x-python",
      "name": "python",
      "nbconvert_exporter": "python",
      "pygments_lexer": "ipython3",
      "version": "3.9.18"
    },
    "orig_nbformat": 4,
    "colab": {
      "provenance": []
    }
  },
  "nbformat": 4,
  "nbformat_minor": 0
}