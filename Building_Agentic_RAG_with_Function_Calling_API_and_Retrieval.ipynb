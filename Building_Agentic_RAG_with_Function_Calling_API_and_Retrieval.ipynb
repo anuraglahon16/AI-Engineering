{
  "nbformat": 4,
  "nbformat_minor": 0,
  "metadata": {
    "colab": {
      "provenance": [],
      "include_colab_link": true
    },
    "kernelspec": {
      "name": "python3",
      "display_name": "Python 3"
    },
    "language_info": {
      "name": "python"
    }
  },
  "cells": [
    {
      "cell_type": "markdown",
      "metadata": {
        "id": "view-in-github",
        "colab_type": "text"
      },
      "source": [
        "<a href=\"https://colab.research.google.com/github/anuraglahon16/AI-Engineering/blob/main/Copy_of_OpenAI_Assistants_Building_Agentic_RAG_with_Function_Calling_API_and_Retrieval.ipynb\" target=\"_parent\"><img src=\"https://colab.research.google.com/assets/colab-badge.svg\" alt=\"Open In Colab\"/></a>"
      ]
    },
    {
      "cell_type": "markdown",
      "source": [
        "# OpenAI Assistants - Building Agentic RAG with the Function Calling, Retrieval, and Code Interpreter Tools\n",
        "\n",
        "Today we'll explore using OpenAI's Python SDK to create, manage, and use the OpenAI Assistant API!"
      ],
      "metadata": {
        "id": "RgDepNVhvzIr"
      }
    },
    {
      "cell_type": "markdown",
      "source": [
        "## Dependencies\n",
        "\n",
        "We'll start, as we usually do, with some dependiencies and our API key!"
      ],
      "metadata": {
        "id": "RNU6b3ymwOWq"
      }
    },
    {
      "cell_type": "code",
      "execution_count": null,
      "metadata": {
        "id": "ePayyL6at6LS"
      },
      "outputs": [],
      "source": [
        "!pip install -qU openai"
      ]
    },
    {
      "cell_type": "code",
      "source": [
        "from getpass import getpass\n",
        "import os\n",
        "\n",
        "os.environ[\"OPENAI_API_KEY\"] = getpass(\"OpenAI API Key:\")"
      ],
      "metadata": {
        "colab": {
          "base_uri": "https://localhost:8080/"
        },
        "id": "unKr3HZdu-1V",
        "outputId": "efb2c96c-45ad-4250-e3a1-24caa3b8c58e"
      },
      "execution_count": null,
      "outputs": [
        {
          "name": "stdout",
          "output_type": "stream",
          "text": [
            "OpenAI API Key:··········\n"
          ]
        }
      ]
    },
    {
      "cell_type": "markdown",
      "source": [
        "## Simple Assistant\n",
        "\n",
        "Let's create a simple Assistant to understand more about how the API works to start!"
      ],
      "metadata": {
        "id": "nwNE7N4HwhXH"
      }
    },
    {
      "cell_type": "markdown",
      "source": [
        "### OpenAI Client\n",
        "\n",
        "At the core of the OpenAI Python SDK is the Client!\n",
        "\n",
        "> NOTE: For ease of use, we'll start with the synchronous `OpenAI()`. OpenAI does provide an `AsyncOpenAI()` that you could leverage as well!"
      ],
      "metadata": {
        "id": "KKEwbLMFxNKs"
      }
    },
    {
      "cell_type": "code",
      "source": [
        "from openai import OpenAI\n",
        "\n",
        "client = OpenAI()"
      ],
      "metadata": {
        "id": "wF-mBZwtuavl"
      },
      "execution_count": null,
      "outputs": []
    },
    {
      "cell_type": "markdown",
      "source": [
        "### Creating An Assistant\n",
        "\n",
        "Leveraging what we know about the OpenAI API from previous sessions - we're going to start by simply initializing an Assistant.\n",
        "\n",
        "Before we begin, we need to think about a few customization options we have:\n",
        "\n",
        "- `name` - Straight forward enough, this is what our Assistant's name will be\n",
        "- `instructions` - similar to a system message, but applied at an Assistant level, this is how we can guide the Assistant's tone, behaviour, functionality, and more!\n",
        "- `model` - this will allow us to choose which model we would prefer to use for our Assistant\n",
        "\n",
        "Let's start by setting some instructions for our Assistant.\n",
        "\n"
      ],
      "metadata": {
        "id": "0aIx4GZ2w_1c"
      }
    },
    {
      "cell_type": "code",
      "source": [
        "# @markdown #### 🏗️ Build Activity 🏗️\n",
        "# @markdown Fill out the fields below to add your Assistant's name, instructions, and desired model!\n",
        "\n",
        "name = \"Anurag\" # @param {type: \"string\"}\n",
        "instructions = \"Be polite \" # @param {type: \"string\"}\n",
        "model = \"gpt-3.5-turbo\" # @param [\"gpt-3.5-turbo\", \"gpt-4-turbo-preview\", \"gpt-4\"]"
      ],
      "metadata": {
        "id": "Paqd6zWMyMAJ"
      },
      "execution_count": null,
      "outputs": []
    },
    {
      "cell_type": "markdown",
      "source": [
        "### Initialize Assistant\n",
        "\n",
        "Now that we have our desired name, instruction, and model - we can initialize our Assistant!"
      ],
      "metadata": {
        "id": "WUeaDsLMzcv-"
      }
    },
    {
      "cell_type": "code",
      "source": [
        "assistant = client.beta.assistants.create(\n",
        "    name=name,\n",
        "    instructions=instructions,\n",
        "    model=model,\n",
        ")"
      ],
      "metadata": {
        "id": "6-4MgVLbu8rO"
      },
      "execution_count": null,
      "outputs": []
    },
    {
      "cell_type": "markdown",
      "source": [
        "Let's examine our `assistant` object and see what we find!"
      ],
      "metadata": {
        "id": "QskO5n5W2X6t"
      }
    },
    {
      "cell_type": "code",
      "source": [
        "assistant"
      ],
      "metadata": {
        "colab": {
          "base_uri": "https://localhost:8080/"
        },
        "id": "nkkIC_JP2bG0",
        "outputId": "345b41f1-805f-49cd-b5e6-2d571488fe8c"
      },
      "execution_count": null,
      "outputs": [
        {
          "output_type": "execute_result",
          "data": {
            "text/plain": [
              "Assistant(id='asst_nekvWOJOTZ73qiG09U5tUaDP', created_at=1709569552, description=None, file_ids=[], instructions='Be polite ', metadata={}, model='gpt-3.5-turbo', name='Anurag', object='assistant', tools=[])"
            ]
          },
          "metadata": {},
          "execution_count": 54
        }
      ]
    },
    {
      "cell_type": "markdown",
      "source": [
        "There are a number of useful parameters here, but we'll call out a few:\n",
        "\n",
        "- `id` - since we may have multiple Assistant's, knowing which Assistant we're interacting with will help us ensure the desired user experience!\n",
        "- `description` - A natrual language description of our Assistant could help others understand what it's supposed to do!\n",
        "- `file_ids` - if we wanted to use the Retrieval tool, this would let us know what files we had given our Assistant"
      ],
      "metadata": {
        "id": "615NK1Qj2e_Z"
      }
    },
    {
      "cell_type": "markdown",
      "source": [
        "### Creating a Thread\n",
        "\n",
        "Behind the scenes our Assistant is powered by the idea of \"threads\".\n",
        "\n",
        "You can think of threads as individual conversations that interact with the Assistant.\n",
        "\n",
        "Let's create a thread now!"
      ],
      "metadata": {
        "id": "-3HhlqtM0AhW"
      }
    },
    {
      "cell_type": "code",
      "source": [
        "thread = client.beta.threads.create()"
      ],
      "metadata": {
        "id": "iFVM39vevT5f"
      },
      "execution_count": null,
      "outputs": []
    },
    {
      "cell_type": "markdown",
      "source": [
        "Let's look at our `thread` object."
      ],
      "metadata": {
        "id": "_Y7jelq01PoG"
      }
    },
    {
      "cell_type": "code",
      "source": [
        "thread"
      ],
      "metadata": {
        "colab": {
          "base_uri": "https://localhost:8080/"
        },
        "id": "5V8WAKDZ1Uf2",
        "outputId": "57347e3b-aa2d-498f-c01e-ccaa4b0e86c0"
      },
      "execution_count": null,
      "outputs": [
        {
          "output_type": "execute_result",
          "data": {
            "text/plain": [
              "Thread(id='thread_j42CumceGGSQ0ZHnpeY93D5X', created_at=1709569552, metadata={}, object='thread')"
            ]
          },
          "metadata": {},
          "execution_count": 56
        }
      ]
    },
    {
      "cell_type": "markdown",
      "source": [
        "Notice some key attributes:\n",
        "\n",
        "- `id` - since each Thread is like a conversation, we need some way to specify which thread we're dealing with when interacting with them\n",
        "- `tool_resources` - this will become more relevant as we add tools since we'll need a way to verify which tools we have access to when interacting with our Assistant"
      ],
      "metadata": {
        "id": "4k6S_e501V4z"
      }
    },
    {
      "cell_type": "markdown",
      "source": [
        "### Adding Messages to Our Thread\n",
        "\n",
        "Now that we have our Thread (or conversation) we can start adding messages to it!\n",
        "\n",
        "Let's add a simple message that asks about how our Assistant is feeling.\n",
        "\n",
        "Notice the parameters we're leveraging:\n",
        "\n",
        "- `thread_id` - since each Thread is like a conversation, we need some way to address a specific conversation. We can use `thread.id` to do this.\n",
        "- `role` - similar to when we used our chat completions endpoint, this parameter specifies who the message is coming from. You can leverage this in the same ways you would through the chat completions endpoint.\n",
        "- `content` - this is where we can place the actual text our Assistant will interact with\n",
        "\n",
        "> NOTE: Feel free to substitute a relevant message based on the Assistant you created"
      ],
      "metadata": {
        "id": "P5BvGv1N0c2h"
      }
    },
    {
      "cell_type": "code",
      "source": [
        "message = client.beta.threads.messages.create(\n",
        "    thread_id=thread.id,\n",
        "    role=\"user\",\n",
        "    content=f\"How old are you?\"\n",
        ")"
      ],
      "metadata": {
        "id": "R7ZNCfGivagg"
      },
      "execution_count": null,
      "outputs": []
    },
    {
      "cell_type": "markdown",
      "source": [
        "Again, let's examine our `message` object!"
      ],
      "metadata": {
        "id": "Uc7R3Sr32P0b"
      }
    },
    {
      "cell_type": "code",
      "source": [
        "message"
      ],
      "metadata": {
        "colab": {
          "base_uri": "https://localhost:8080/"
        },
        "id": "wMLvyZDA2S_D",
        "outputId": "87640cba-cc45-4bc8-b86f-56aa6a574bea"
      },
      "execution_count": null,
      "outputs": [
        {
          "output_type": "execute_result",
          "data": {
            "text/plain": [
              "ThreadMessage(id='msg_sUez0YZ1sd7g1yJvXCkMpasO', assistant_id=None, content=[MessageContentText(text=Text(annotations=[], value='How old are you?'), type='text')], created_at=1709569553, file_ids=[], metadata={}, object='thread.message', role='user', run_id=None, thread_id='thread_j42CumceGGSQ0ZHnpeY93D5X')"
            ]
          },
          "metadata": {},
          "execution_count": 58
        }
      ]
    },
    {
      "cell_type": "markdown",
      "source": [
        "### Running Our Thread\n",
        "\n",
        "Now that we have an Assistant, and we've given that Assistant a Thread, and we've added a Message to that Thread - we're ready to run our Assistant!\n",
        "\n",
        "Notice that this process lets us add (potentially) multiple messages to our Assistant. We can leverage that behaviour for few/many-shot examples, and more!"
      ],
      "metadata": {
        "id": "uI3Pctpk29og"
      }
    },
    {
      "cell_type": "code",
      "source": [
        "# @markdown #### 🏗️ Build Activity 🏗️\n",
        "# @markdown We can also override the Assistant's instructions when we run a thread.\n",
        "\n",
        "# @markdown Use one of the [Prompt Principles for Instruction](https://arxiv.org/pdf/2312.16171v1.pdf) to improve the likeliehood of a correct or valuable response from your Assistant.\n",
        "\n",
        "additional_instructions = \"Break down complex tasks into a sequence of simpler prompts in an interactive conversation INSTRUCTIONS\" # @param {type: \"string\"}"
      ],
      "metadata": {
        "cellView": "form",
        "id": "VkvsXv5_3cyQ"
      },
      "execution_count": null,
      "outputs": []
    },
    {
      "cell_type": "markdown",
      "source": [
        "Let's run our Thread!"
      ],
      "metadata": {
        "id": "7CuGbTrL5QEc"
      }
    },
    {
      "cell_type": "code",
      "source": [
        "run = client.beta.threads.runs.create(\n",
        "  thread_id=thread.id,\n",
        "  assistant_id=assistant.id,\n",
        "  instructions=instructions + \" \" + additional_instructions\n",
        ")"
      ],
      "metadata": {
        "id": "fpWNl3UVvdW4"
      },
      "execution_count": null,
      "outputs": []
    },
    {
      "cell_type": "markdown",
      "source": [
        "Now that we've run our thread, let's look at the object!"
      ],
      "metadata": {
        "id": "erMGdU7y6la2"
      }
    },
    {
      "cell_type": "code",
      "source": [
        "run"
      ],
      "metadata": {
        "colab": {
          "base_uri": "https://localhost:8080/"
        },
        "id": "Kz_rfwi869YI",
        "outputId": "d028c8ef-e430-45cb-f144-168b9ad61217"
      },
      "execution_count": null,
      "outputs": [
        {
          "output_type": "execute_result",
          "data": {
            "text/plain": [
              "Run(id='run_a1Yp7KRWBwf36yY9jjoN4dfr', assistant_id='asst_nekvWOJOTZ73qiG09U5tUaDP', cancelled_at=None, completed_at=None, created_at=1709569553, expires_at=1709570153, failed_at=None, file_ids=[], instructions='Be polite  Break down complex tasks into a sequence of simpler prompts in an interactive conversation INSTRUCTIONS', last_error=None, metadata={}, model='gpt-3.5-turbo', object='thread.run', required_action=None, started_at=None, status='queued', thread_id='thread_j42CumceGGSQ0ZHnpeY93D5X', tools=[], usage=None)"
            ]
          },
          "metadata": {},
          "execution_count": 61
        }
      ]
    },
    {
      "cell_type": "markdown",
      "source": [
        "Notice we have access to a few very powerful parameters in this `run` object.\n",
        "\n",
        "- `completed_at` - this will help us determine when we can expect to retrieve a response\n",
        "- `failed_at` - this can highlight any issues our run ran into\n",
        "- `status` - is another way we can understand how the flow is going"
      ],
      "metadata": {
        "id": "-h2SH_347JJb"
      }
    },
    {
      "cell_type": "markdown",
      "source": [
        "### Retrieving Our Run\n",
        "\n",
        "Now that we've created our run, let's retrieve it.\n",
        "\n",
        "We're going to wrap this in a simple loop to make sure we're not retrieving it too early."
      ],
      "metadata": {
        "id": "HVBNagBU7kpx"
      }
    },
    {
      "cell_type": "code",
      "source": [
        "import time\n",
        "\n",
        "while run.status == \"in_progress\" or run.status == \"queued\":\n",
        "  time.sleep(1)\n",
        "  run = client.beta.threads.runs.retrieve(\n",
        "    thread_id=thread.id,\n",
        "    run_id=run.id\n",
        "  )"
      ],
      "metadata": {
        "id": "itz5_otPvfkV"
      },
      "execution_count": null,
      "outputs": []
    },
    {
      "cell_type": "code",
      "source": [
        "print(run.status)"
      ],
      "metadata": {
        "colab": {
          "base_uri": "https://localhost:8080/"
        },
        "id": "AgGE1uUJ7z3h",
        "outputId": "401f23e7-b1f8-48a1-921d-7aa602a70ddc"
      },
      "execution_count": null,
      "outputs": [
        {
          "output_type": "stream",
          "name": "stdout",
          "text": [
            "completed\n"
          ]
        }
      ]
    },
    {
      "cell_type": "markdown",
      "source": [
        "Now that our run is completed - we can retieve the messages from our thread!\n",
        "\n",
        "Notice that our run helps us understand how things are going - but it isn't where we're going to find our responses or messages. Those are added on the backend into our thread.\n",
        "\n",
        "This leads to a simple, but important, flow:\n",
        "\n",
        "1. We add messages to a thread.\n",
        "2. We create a run on that thread.\n",
        "3. We wait until the run is finished.\n",
        "4. We check our thread for the new messages."
      ],
      "metadata": {
        "id": "zHVTS4hD7-fv"
      }
    },
    {
      "cell_type": "markdown",
      "source": [
        "### Checking Our Thread\n",
        "\n",
        "Now we can get a list of messages from our thread!"
      ],
      "metadata": {
        "id": "DGBNpGmh-ZpW"
      }
    },
    {
      "cell_type": "code",
      "source": [
        "messages = client.beta.threads.messages.list(\n",
        "  thread_id=thread.id\n",
        ")"
      ],
      "metadata": {
        "id": "Av-OQDUPvhAd"
      },
      "execution_count": null,
      "outputs": []
    },
    {
      "cell_type": "code",
      "source": [
        "messages.data[0]"
      ],
      "metadata": {
        "colab": {
          "base_uri": "https://localhost:8080/"
        },
        "id": "GM6cZk-GviqX",
        "outputId": "eec6bfca-5b66-4c70-b4e2-ed5f4d61719a"
      },
      "execution_count": null,
      "outputs": [
        {
          "output_type": "execute_result",
          "data": {
            "text/plain": [
              "ThreadMessage(id='msg_AhH2J1NmwQbr1RFSeenZmLym', assistant_id='asst_nekvWOJOTZ73qiG09U5tUaDP', content=[MessageContentText(text=Text(annotations=[], value=\"I'm just a computer program, so I don't have an age in the way humans do. How can I assist you today?\"), type='text')], created_at=1709569554, file_ids=[], metadata={}, object='thread.message', role='assistant', run_id='run_a1Yp7KRWBwf36yY9jjoN4dfr', thread_id='thread_j42CumceGGSQ0ZHnpeY93D5X')"
            ]
          },
          "metadata": {},
          "execution_count": 65
        }
      ]
    },
    {
      "cell_type": "markdown",
      "source": [
        "## Adding Tools\n",
        "\n",
        "Now that we have an understanding of how Assistant works, we can start thinking about adding tools.\n",
        "\n",
        "We'll go through 3 separate tools and explore how we can leverage them!\n",
        "\n",
        "Let's start with the most familiar tool - the Retriever!\n"
      ],
      "metadata": {
        "id": "XgnY16tjCmc6"
      }
    },
    {
      "cell_type": "markdown",
      "source": [
        "### Creating an Assistant with the Retriever Tool\n",
        "\n",
        "The first thing we'll want to do is create an assistant with the Retriever tool.\n",
        "\n",
        "This is also going to require some data. We'll provided data - but you're very much encouraged to use your own files to explore how the Assistant works for your use case."
      ],
      "metadata": {
        "id": "Z0NagnlZC8g9"
      }
    },
    {
      "cell_type": "markdown",
      "source": [
        "#### Collect and Add Data\n",
        "\n",
        "First, we need some data. Second, we need to add the data to our Assistant!\n",
        "\n",
        "Let's start with grabbing some data!"
      ],
      "metadata": {
        "id": "HInYwNiQEjQH"
      }
    },
    {
      "cell_type": "code",
      "source": [
        "!wget https://www.gutenberg.org/files/84/84-h/84-h.htm -o frankenstein.html"
      ],
      "metadata": {
        "id": "wvAHBszIEa1Y"
      },
      "execution_count": null,
      "outputs": []
    },
    {
      "cell_type": "markdown",
      "source": [
        "Now we can upload our file!\n",
        "\n",
        "Pay attention to [this](https://platform.openai.com/docs/assistants/tools/supported-files) documentation to see what kinds of files can be uploaded.\n",
        "\n",
        "> NOTE: Per the OpenAI [docs](https://platform.openai.com/docs/assistants/tools/knowledge-retrieval) The maximum file size is 512 MB and no more than 2,000,000 tokens (computed automatically when you attach a file)"
      ],
      "metadata": {
        "id": "x2EpY1w_FQ3m"
      }
    },
    {
      "cell_type": "code",
      "source": [
        "file_reference = client.files.create(\n",
        "  file=open(\"frankenstein.html\", \"rb\"),\n",
        "  purpose='assistants'\n",
        ")"
      ],
      "metadata": {
        "id": "dpVoe2SMFI6s"
      },
      "execution_count": null,
      "outputs": []
    },
    {
      "cell_type": "markdown",
      "source": [
        "Let's look at what our `file_reference` contains!"
      ],
      "metadata": {
        "id": "rBQOSGyyF2u5"
      }
    },
    {
      "cell_type": "code",
      "source": [
        "file_reference"
      ],
      "metadata": {
        "colab": {
          "base_uri": "https://localhost:8080/"
        },
        "id": "zJrVLkMpFgwf",
        "outputId": "3743f49b-4be4-44d8-c5c6-3bdace67bf60"
      },
      "execution_count": null,
      "outputs": [
        {
          "output_type": "execute_result",
          "data": {
            "text/plain": [
              "FileObject(id='file-vzfWc5UETezsvE6P29HnOSdV', bytes=1204, created_at=1709569555, filename='frankenstein.html', object='file', purpose='assistants', status='processed', status_details=None)"
            ]
          },
          "metadata": {},
          "execution_count": 68
        }
      ]
    },
    {
      "cell_type": "markdown",
      "source": [
        "#### Create and Use Assistant\n",
        "\n",
        "Now that we have our file - we can attach it to an Assistant, and we can give that Assistant the ability to use it for retrieval through the Retrieval tool!\n",
        "\n",
        "> NOTE: Please pay attention to [pricing](https://platform.openai.com/docs/assistants/tools/knowledge-retrieval) and don't forget to delete your files when you're done!"
      ],
      "metadata": {
        "id": "Jd4O4dpZF-eH"
      }
    },
    {
      "cell_type": "code",
      "source": [
        "assistant = client.beta.assistants.create(\n",
        "  name=name + \"+ Retrieval\",\n",
        "  instructions=instructions,\n",
        "  model=model,\n",
        "  tools=[{\"type\": \"retrieval\"}],\n",
        "  file_ids=[file_reference.id]\n",
        ")"
      ],
      "metadata": {
        "id": "jfn_MlJqFiEe"
      },
      "execution_count": null,
      "outputs": []
    },
    {
      "cell_type": "markdown",
      "source": [
        "Let's try submitting a message to our Assistant and seeing what kind of answer we get!\n",
        "\n",
        "We'll outline the steps needed to do this in full:\n",
        "\n",
        "1. Create an Assistant\n",
        "2. Create a Thread\n",
        "3. Add Messages to that Thread\n",
        "4. Create a Run on that Thread\n",
        "5. Wait for Run to Complete\n",
        "6. Collect Messages from the Thread\n",
        "\n",
        "Let's do that below!"
      ],
      "metadata": {
        "id": "f0-mmRjQGeUR"
      }
    },
    {
      "cell_type": "code",
      "source": [
        "# Create a Thread\n",
        "thread = client.beta.threads.create()\n",
        "\n",
        "# Add Messages to that Thread\n",
        "message = client.beta.threads.messages.create(\n",
        "    thread_id=thread.id,\n",
        "    role=\"user\",\n",
        "    content=f\"What is the first words Victor Frankenstein speaks?\"\n",
        ")\n",
        "\n",
        "# Create a Run on that Thread\n",
        "run = client.beta.threads.runs.create(\n",
        "  thread_id=thread.id,\n",
        "  assistant_id=assistant.id,\n",
        ")\n",
        "\n",
        "# Wait for Run to Complete\n",
        "while run.status == \"in_progress\" or run.status == \"queued\":\n",
        "  time.sleep(1)\n",
        "  print(run.status)\n",
        "  run = client.beta.threads.runs.retrieve(\n",
        "    thread_id=thread.id,\n",
        "    run_id=run.id\n",
        "  )\n",
        "\n",
        "# Collect Messages from the Thread\n",
        "messages = client.beta.threads.messages.list(\n",
        "  thread_id=thread.id\n",
        ")"
      ],
      "metadata": {
        "colab": {
          "base_uri": "https://localhost:8080/"
        },
        "id": "jOKtb9PsGiB1",
        "outputId": "a2d06af5-6703-43a7-ca16-b717557afb6f"
      },
      "execution_count": null,
      "outputs": [
        {
          "output_type": "stream",
          "name": "stdout",
          "text": [
            "queued\n",
            "in_progress\n",
            "in_progress\n"
          ]
        }
      ]
    },
    {
      "cell_type": "markdown",
      "source": [
        "Let's look at the final result!"
      ],
      "metadata": {
        "id": "zxJfa-saHbNQ"
      }
    },
    {
      "cell_type": "code",
      "source": [
        "messages"
      ],
      "metadata": {
        "colab": {
          "base_uri": "https://localhost:8080/"
        },
        "id": "19nDqjRgHaNA",
        "outputId": "a4430181-019d-4ad9-948e-d4d7322b3686"
      },
      "execution_count": null,
      "outputs": [
        {
          "output_type": "execute_result",
          "data": {
            "text/plain": [
              "SyncCursorPage[ThreadMessage](data=[ThreadMessage(id='msg_lwMQz0roAWgvjxhA0E9SOr6r', assistant_id=None, content=[MessageContentText(text=Text(annotations=[], value='What is the first words Victor Frankenstein speaks?'), type='text')], created_at=1709569558, file_ids=[], metadata={}, object='thread.message', role='user', run_id=None, thread_id='thread_rSEhezCFv0NuZxlRVmguMvaZ')], object='list', first_id='msg_lwMQz0roAWgvjxhA0E9SOr6r', last_id='msg_lwMQz0roAWgvjxhA0E9SOr6r', has_more=False)"
            ]
          },
          "metadata": {},
          "execution_count": 71
        }
      ]
    },
    {
      "cell_type": "markdown",
      "source": [
        "Let's do some clean up to make sure we're not being charged anything extra by deleting our resources."
      ],
      "metadata": {
        "id": "5JdzJDvmHyNF"
      }
    },
    {
      "cell_type": "code",
      "source": [
        "file_deletion_status = client.beta.assistants.files.delete(\n",
        "  assistant_id=assistant.id,\n",
        "  file_id=file_reference.id\n",
        ")"
      ],
      "metadata": {
        "id": "01EYWyWBHaoC"
      },
      "execution_count": null,
      "outputs": []
    },
    {
      "cell_type": "markdown",
      "source": [
        "### Creating an Assistant with the Code Interpreter Tool\n",
        "\n",
        "Now that we've explored the Retrieval Tool - let's try the Code Interpreter tool!\n",
        "\n",
        "The process will be almost exactly the same - but we can explore a different query, and we'll add our file at the Message level!"
      ],
      "metadata": {
        "id": "Pln9uYoJICno"
      }
    },
    {
      "cell_type": "code",
      "source": [
        "assistant = client.beta.assistants.create(\n",
        "  name=name + \"+ Code Interpreter\",\n",
        "  instructions=instructions,\n",
        "  model=model,\n",
        "  tools=[{\"type\": \"code_interpreter\"}],\n",
        ")"
      ],
      "metadata": {
        "id": "IC81y_VtH9lw"
      },
      "execution_count": null,
      "outputs": []
    },
    {
      "cell_type": "markdown",
      "source": [
        "In the following example, we'll also see how we can package the Thread creation with the Message adding step!\n",
        "\n",
        "> NOTE: Files added at the message/thread level will not be available to the Assistant outside of that Thread."
      ],
      "metadata": {
        "id": "UJPHAJCQJbgi"
      }
    },
    {
      "cell_type": "code",
      "source": [
        "thread = client.beta.threads.create(\n",
        "  messages=[\n",
        "    {\n",
        "      \"role\": \"user\",\n",
        "      \"content\": \"What kind of file is this?\",\n",
        "      \"file_ids\": [file_reference.id]\n",
        "    }\n",
        "  ]\n",
        ")"
      ],
      "metadata": {
        "id": "5xVdjH6EJQrr"
      },
      "execution_count": null,
      "outputs": []
    },
    {
      "cell_type": "markdown",
      "source": [
        "> NOTE: Remember that we create runs at the *thread* level - and so don't need the message object to continue."
      ],
      "metadata": {
        "id": "yiIYut_dJ0Cv"
      }
    },
    {
      "cell_type": "code",
      "source": [
        "# Create a Run on that Thread\n",
        "run = client.beta.threads.runs.create(\n",
        "  thread_id=thread.id,\n",
        "  assistant_id=assistant.id,\n",
        ")\n",
        "\n",
        "# Wait for Run to Complete\n",
        "while run.status == \"in_progress\" or run.status == \"queued\":\n",
        "  time.sleep(1)\n",
        "  print(run.status)\n",
        "  run = client.beta.threads.runs.retrieve(\n",
        "    thread_id=thread.id,\n",
        "    run_id=run.id\n",
        "  )\n",
        "\n",
        "# Collect Messages from the Thread\n",
        "messages = client.beta.threads.messages.list(\n",
        "  thread_id=thread.id\n",
        ")"
      ],
      "metadata": {
        "colab": {
          "base_uri": "https://localhost:8080/"
        },
        "id": "ES8laUe_Jwp_",
        "outputId": "9fb5e278-d76b-4f78-e96e-f0e94ccdb720"
      },
      "execution_count": null,
      "outputs": [
        {
          "output_type": "stream",
          "name": "stdout",
          "text": [
            "queued\n",
            "in_progress\n",
            "in_progress\n",
            "in_progress\n",
            "in_progress\n",
            "in_progress\n",
            "in_progress\n",
            "in_progress\n",
            "in_progress\n",
            "in_progress\n"
          ]
        }
      ]
    },
    {
      "cell_type": "markdown",
      "source": [
        "We can check the specific steps that the Code Interpreter ran to figure out what steps the Assistant took!"
      ],
      "metadata": {
        "id": "iYPpGJz5KoDf"
      }
    },
    {
      "cell_type": "code",
      "source": [
        "run_steps = client.beta.threads.runs.steps.list(\n",
        "  thread_id=thread.id,\n",
        "  run_id=run.id\n",
        ")"
      ],
      "metadata": {
        "id": "or7iJ492KI2P"
      },
      "execution_count": null,
      "outputs": []
    },
    {
      "cell_type": "code",
      "source": [
        "for step in run_steps.data:\n",
        "  print(step.step_details)"
      ],
      "metadata": {
        "colab": {
          "base_uri": "https://localhost:8080/"
        },
        "id": "DwbzExbmKJ4N",
        "outputId": "af573a3a-f9b7-4a4c-b01c-322ed4f59aa1"
      },
      "execution_count": null,
      "outputs": [
        {
          "output_type": "stream",
          "name": "stdout",
          "text": [
            "MessageCreationStepDetails(message_creation=MessageCreation(message_id='msg_ctfGFh1C8Mf3khkKwtAUfy3B'), type='message_creation')\n",
            "ToolCallsStepDetails(tool_calls=[CodeToolCall(id='call_iyqgrlVLnf3MGSqoisEJYzha', code_interpreter=CodeInterpreter(input='import subprocess\\r\\n\\r\\n# Use the `file` command to determine the file type\\r\\noutput = subprocess.check_output([\\'file\\', filename]).decode()\\r\\nfile_type = output.split(\":\")[-1].strip()\\r\\n\\r\\nfile_type', outputs=[CodeInterpreterOutputLogs(logs=\"'Unicode text, UTF-8 text'\", type='logs')]), type='code_interpreter')], type='tool_calls')\n",
            "MessageCreationStepDetails(message_creation=MessageCreation(message_id='msg_3jaRGxDFZBAJ55v26uHFMKyk'), type='message_creation')\n",
            "ToolCallsStepDetails(tool_calls=[CodeToolCall(id='call_xcrTnRmYtdMCSTU2lzVnVgGj', code_interpreter=CodeInterpreter(input=\"import mimetypes\\r\\n\\r\\n# Get the file type\\r\\nfilename = '/mnt/data/file-vzfWc5UETezsvE6P29HnOSdV'\\r\\nfile_type, _ = mimetypes.guess_type(filename)\\r\\n\\r\\nfile_type\", outputs=[CodeInterpreterOutputLogs(logs='', type='logs')]), type='code_interpreter')], type='tool_calls')\n",
            "MessageCreationStepDetails(message_creation=MessageCreation(message_id='msg_Io0wl3h5AlmIleU5ZJTXA4Jd'), type='message_creation')\n",
            "ToolCallsStepDetails(tool_calls=[CodeToolCall(id='call_xHVDAYySAeg11YG8SbPDpcrR', code_interpreter=CodeInterpreter(input=\"import magic\\r\\n\\r\\n# Load the uploaded file and get its MIME type\\r\\nfilename = '/mnt/data/file-vzfWc5UETezsvE6P29HnOSdV'\\r\\nfile_type = magic.from_file(filename, mime=True)\\r\\n\\r\\nfile_type\", outputs=[CodeInterpreterOutputLogs(logs=\"---------------------------------------------------------------------------\\nModuleNotFoundError                       Traceback (most recent call last)\\nCell In[1], line 1\\n----> 1 import magic\\n      3 # Load the uploaded file and get its MIME type\\n      4 filename = '/mnt/data/file-vzfWc5UETezsvE6P29HnOSdV'\\n\\nModuleNotFoundError: No module named 'magic'\\n\", type='logs')]), type='code_interpreter')], type='tool_calls')\n",
            "MessageCreationStepDetails(message_creation=MessageCreation(message_id='msg_EH8iQTLxbrk9CqIknn4K2mPs'), type='message_creation')\n"
          ]
        }
      ]
    },
    {
      "cell_type": "code",
      "source": [
        "messages"
      ],
      "metadata": {
        "colab": {
          "base_uri": "https://localhost:8080/"
        },
        "id": "cNJeFF6JJ62H",
        "outputId": "9878db2c-cbe2-4590-f994-67dc181b04e3"
      },
      "execution_count": null,
      "outputs": [
        {
          "output_type": "execute_result",
          "data": {
            "text/plain": [
              "SyncCursorPage[ThreadMessage](data=[ThreadMessage(id='msg_ctfGFh1C8Mf3khkKwtAUfy3B', assistant_id='asst_MrsjADqNKffVZQOhzMfGcuf9', content=[MessageContentText(text=Text(annotations=[], value='The file you uploaded appears to be a \"Unicode text, UTF-8 text\" file. If you need further assistance with this file or have any other questions, feel free to let me know!'), type='text')], created_at=1709570775, file_ids=[], metadata={}, object='thread.message', role='assistant', run_id='run_8nZPUcfqo0t7THOyzCCCYDyS', thread_id='thread_PZG6cCKdxLWX3AFgWO5sQEpU'), ThreadMessage(id='msg_3jaRGxDFZBAJ55v26uHFMKyk', assistant_id='asst_MrsjADqNKffVZQOhzMfGcuf9', content=[MessageContentText(text=Text(annotations=[], value='It seems that I was unable to determine the file type using the alternative method. Let me try another approach to identify the file type.'), type='text')], created_at=1709570773, file_ids=[], metadata={}, object='thread.message', role='assistant', run_id='run_8nZPUcfqo0t7THOyzCCCYDyS', thread_id='thread_PZG6cCKdxLWX3AFgWO5sQEpU'), ThreadMessage(id='msg_Io0wl3h5AlmIleU5ZJTXA4Jd', assistant_id='asst_MrsjADqNKffVZQOhzMfGcuf9', content=[MessageContentText(text=Text(annotations=[], value='It seems that the magic module, which is commonly used to determine the file type, is not available in this environment. Let me try another approach to determine the file type.'), type='text')], created_at=1709570769, file_ids=[], metadata={}, object='thread.message', role='assistant', run_id='run_8nZPUcfqo0t7THOyzCCCYDyS', thread_id='thread_PZG6cCKdxLWX3AFgWO5sQEpU'), ThreadMessage(id='msg_EH8iQTLxbrk9CqIknn4K2mPs', assistant_id='asst_MrsjADqNKffVZQOhzMfGcuf9', content=[MessageContentText(text=Text(annotations=[], value='Let me check the type of the file you uploaded.'), type='text')], created_at=1709570766, file_ids=[], metadata={}, object='thread.message', role='assistant', run_id='run_8nZPUcfqo0t7THOyzCCCYDyS', thread_id='thread_PZG6cCKdxLWX3AFgWO5sQEpU'), ThreadMessage(id='msg_9wYmvGTmtReQH5gA2ZwYTR0A', assistant_id=None, content=[MessageContentText(text=Text(annotations=[], value='What kind of file is this?'), type='text')], created_at=1709570765, file_ids=['file-vzfWc5UETezsvE6P29HnOSdV'], metadata={}, object='thread.message', role='user', run_id=None, thread_id='thread_PZG6cCKdxLWX3AFgWO5sQEpU')], object='list', first_id='msg_ctfGFh1C8Mf3khkKwtAUfy3B', last_id='msg_9wYmvGTmtReQH5gA2ZwYTR0A', has_more=False)"
            ]
          },
          "metadata": {},
          "execution_count": 78
        }
      ]
    },
    {
      "cell_type": "markdown",
      "source": [
        "And there you go!\n",
        "\n",
        "We've fit our Assistant with an awesome Code Interpreter that lets our Assistant run code on our provided files!"
      ],
      "metadata": {
        "id": "hi10hON2LQmc"
      }
    },
    {
      "cell_type": "markdown",
      "source": [
        "### Creating an Assistant with a Function Calling Tool\n",
        "\n",
        "Let's finally create an Assistant that utilizes the Function Calling API.\n",
        "\n",
        "We'll start by creating a function that we wish to be called.\n",
        "\n",
        "We'll utilize DuckDuckGo search to allow our Assistant to have the most up to date information!"
      ],
      "metadata": {
        "id": "EdJxt77oLzu7"
      }
    },
    {
      "cell_type": "code",
      "source": [
        "!pip install -qU duckduckgo_search"
      ],
      "metadata": {
        "id": "n5eKEC2wMMVI"
      },
      "execution_count": null,
      "outputs": []
    },
    {
      "cell_type": "code",
      "source": [
        "from duckduckgo_search import DDGS\n",
        "\n",
        "def duckduckgo_search(query):\n",
        "  with DDGS() as ddgs:\n",
        "    results = [r for r in ddgs.text(query, max_results=5)]\n",
        "    return \"\\n\".join(result[\"body\"] for result in results)"
      ],
      "metadata": {
        "id": "YPFZ_Uq_LawH"
      },
      "execution_count": null,
      "outputs": []
    },
    {
      "cell_type": "markdown",
      "source": [
        "Let's test our function to make sure it behaves as we expect it to."
      ],
      "metadata": {
        "id": "D-o1TBFpMSvR"
      }
    },
    {
      "cell_type": "code",
      "source": [
        "duckduckgo_search(\"Who is the current captain of the Winnipeg Jets?\")"
      ],
      "metadata": {
        "colab": {
          "base_uri": "https://localhost:8080/",
          "height": 125
        },
        "id": "mCUr9jFCMWBw",
        "outputId": "aad10390-43a2-4cc8-f849-2349dda24dd8"
      },
      "execution_count": null,
      "outputs": [
        {
          "output_type": "execute_result",
          "data": {
            "text/plain": [
              "'Winnipeg Jets forward Adam Lowry has been named as captain of the team. The Jets made the announcement on Tuesday morning, saying that Lowry is the third captain since the Jets returned in 2011.\\nThe official 2023 - 2024 roster of the Winnipeg Jets, including position, height, weight, date of birth, age, and birth place.\\nLowry has been a part of the Jets organization since June 25, 2011, when he was selected in the third round, 67 th overall, after putting up 37 points in 36 games with the Swift Current Broncos of ...\\nLowry will follow Andrew Ladd and Blake Wheeler to serve as the third captain of the new Winnipeg Jets franchise. - Sep 12, 2023. After a season without a captain, the Winnipeg Jets have named ...\\nAdam Lowry, who has been a Jet since 2011 when he was drafted 67th overall, is the new captain of the NHL team — its third since relocating to Winnipeg from Atlanta in 2011. Andrew Ladd served ...'"
            ],
            "application/vnd.google.colaboratory.intrinsic+json": {
              "type": "string"
            }
          },
          "metadata": {},
          "execution_count": 81
        }
      ]
    },
    {
      "cell_type": "markdown",
      "source": [
        "Now we need to express how our function works in a way that is compatible with the OpenAI Function Calling API.\n",
        "\n",
        "We'll want to provide a `JSON` object that includes what parameters we have, how to call them, and a short natural language description."
      ],
      "metadata": {
        "id": "FzE1nxt5Mi80"
      }
    },
    {
      "cell_type": "code",
      "source": [
        "ddg_function = {\n",
        "    \"name\" : \"duckduckgo_search\",\n",
        "    \"description\" : \"Answer non-technical questions. \",\n",
        "    \"parameters\" : {\n",
        "        \"type\" : \"object\",\n",
        "        \"properties\" : {\n",
        "            \"query\" : {\n",
        "                \"type:\" : \"string\",\n",
        "                \"description\" : \"The search query to use. For example: 'Who is the current Goalie of the Colorado Avalance?'\"\n",
        "            }\n",
        "        },\n",
        "        \"required\" : [\"query\"]\n",
        "    }\n",
        "}"
      ],
      "metadata": {
        "id": "8ElrWvBnMY_s"
      },
      "execution_count": null,
      "outputs": []
    },
    {
      "cell_type": "markdown",
      "source": [
        "####❓ Question\n",
        "\n",
        "Why does the description key-value pair matter?\n",
        "\n",
        "\n",
        "The description key-value pair is essential because it clearly explains a function's purpose and usage, guiding developers and users in how to properly use it. It improves clarity, documentation, and usability, making interactions with the function more straightforward and error-free."
      ],
      "metadata": {
        "id": "NyRmJgEQVuGs"
      }
    },
    {
      "cell_type": "markdown",
      "source": [
        "Now when we create our Assistant - we'll want to include the function description as a tool using the following format."
      ],
      "metadata": {
        "id": "tir4WySGM0x2"
      }
    },
    {
      "cell_type": "code",
      "source": [
        "assistant = client.beta.assistants.create(\n",
        "    name=name + \" + Function Calling API\",\n",
        "    instructions=instructions,\n",
        "    tools=[\n",
        "        {\"type\": \"function\",\n",
        "         \"function\" : ddg_function\n",
        "        }\n",
        "    ],\n",
        "    model=model\n",
        ")"
      ],
      "metadata": {
        "id": "4eFpwi12Mzlg"
      },
      "execution_count": null,
      "outputs": []
    },
    {
      "cell_type": "markdown",
      "source": [
        "We need to make a few modifications to our Assistant to include the ability to make calls to our local function and pass the results back to our Assistant for further generation."
      ],
      "metadata": {
        "id": "nJCLvWZzNIXR"
      }
    },
    {
      "cell_type": "code",
      "source": [
        "import json\n",
        "\n",
        "def wait_for_run_completion(thread_id, run_id):\n",
        "    while True:\n",
        "        time.sleep(1)\n",
        "        run = client.beta.threads.runs.retrieve(thread_id=thread_id, run_id=run_id)\n",
        "        print(f\"Current run status: {run.status}\")\n",
        "        if run.status in ['completed', 'failed', 'requires_action']:\n",
        "            return run\n",
        "\n",
        "def submit_tool_outputs(thread_id, run_id, tools_to_call):\n",
        "    tool_output_array = []\n",
        "    for tool in tools_to_call:\n",
        "        output = None\n",
        "        tool_call_id = tool.id\n",
        "        function_name = tool.function.name\n",
        "        function_args = tool.function.arguments\n",
        "\n",
        "        if function_name == \"duckduckgo_search\":\n",
        "            print(\"Consulting Duck Duck Go...\")\n",
        "            output = duckduckgo_search(query=json.loads(function_args)[\"query\"])\n",
        "\n",
        "        if output:\n",
        "            tool_output_array.append({\"tool_call_id\": tool_call_id, \"output\": output})\n",
        "\n",
        "    print(tool_output_array)\n",
        "\n",
        "    return client.beta.threads.runs.submit_tool_outputs(\n",
        "        thread_id=thread_id,\n",
        "        run_id=run_id,\n",
        "        tool_outputs=tool_output_array\n",
        "    )\n",
        "\n",
        "def print_messages_from_thread(thread_id):\n",
        "    messages = client.beta.threads.messages.list(thread_id=thread_id)\n",
        "    for msg in messages:\n",
        "        print(f\"{msg.role}: {msg.content[0].text.value}\")\n",
        "\n",
        "def use_assistant(query, assistant_id, thread_id=None):\n",
        "  thread = client.beta.threads.create()\n",
        "\n",
        "  message = client.beta.threads.messages.create(\n",
        "      thread_id=thread.id,\n",
        "      role=\"user\",\n",
        "      content=query,\n",
        "  )\n",
        "\n",
        "  print(\"Creating Assistant \")\n",
        "\n",
        "  run = client.beta.threads.runs.create(\n",
        "    thread_id=thread.id,\n",
        "    assistant_id=assistant_id,\n",
        "  )\n",
        "\n",
        "  print(\"Querying OpenAI Assistant Thread.\")\n",
        "\n",
        "  run = wait_for_run_completion(thread.id, run.id)\n",
        "\n",
        "  if run.status == 'requires_action':\n",
        "    run = submit_tool_outputs(thread.id, run.id, run.required_action.submit_tool_outputs.tool_calls)\n",
        "    run = wait_for_run_completion(thread.id, run.id)\n",
        "\n",
        "  print_messages_from_thread(thread.id)\n",
        "\n",
        "  return thread.id"
      ],
      "metadata": {
        "id": "XHRfvGJ_NQnF"
      },
      "execution_count": null,
      "outputs": []
    },
    {
      "cell_type": "markdown",
      "source": [
        "####❓ Question\n",
        "\n",
        "Outline, in simple terms, what the `use_assistant` helper function is doing.\n",
        "\n",
        "The use_assistant helper function sends a query to an OpenAI Assistant by creating a new conversation thread, or adding to an existing one if a thread ID is provided. It effectively initiates or continues a dialogue with the assistant by posting the user's question within this thread, allowing for an organized conversation flow."
      ],
      "metadata": {
        "id": "NoChJ771Uo0B"
      }
    },
    {
      "cell_type": "code",
      "source": [
        "use_assistant(\"Who is the current Captain of the Winnipeg Jets?\", assistant.id)"
      ],
      "metadata": {
        "colab": {
          "base_uri": "https://localhost:8080/",
          "height": 216
        },
        "id": "d5NR_HYINky8",
        "outputId": "289ef6d1-f000-48b3-e91d-0dbb742f4e44"
      },
      "execution_count": null,
      "outputs": [
        {
          "output_type": "stream",
          "name": "stdout",
          "text": [
            "Creating Assistant \n",
            "Querying OpenAI Assistant Thread.\n",
            "Current run status: in_progress\n",
            "Current run status: requires_action\n",
            "Consulting Duck Duck Go...\n",
            "[{'tool_call_id': 'call_YvfJg5cgKQYlTDnyNR653JYc', 'output': 'Lowry has been a part of the Jets organization since June 25, 2011, when he was selected in the third round, 67 th overall, after putting up 37 points in 36 games with the Swift Current Broncos of ...\\nWinnipeg Jets Captains. Team Names: Winnipeg Jets, Atlanta Thrashers. Seasons: 24 (1999-00 to 2023-24) NHL Playoff Appearances: 7. NHL Championships: 0 (0 Stanley Cup) ... Current Summary/Standings, Current Schedule/Results, Current Leaders, Current Stats. 2023-24, ...\\nLowry will follow Andrew Ladd and Blake Wheeler to serve as the third captain of the new Winnipeg Jets franchise. - Sep 12, 2023. After a season without a captain, the Winnipeg Jets have named ...\\nThe official 2023 - 2024 roster of the Winnipeg Jets, including position, height, weight, date of birth, age, and birth place.\\nThe Winnipeg Jets have a new leader, one year after stripping the C from Blake Wheeler and deciding to play without a captain. Adam Lowry, who has been a Jet since 2011 when he was drafted 67th ...'}]\n",
            "Current run status: completed\n",
            "assistant: The current Captain of the Winnipeg Jets is Adam Lowry.\n",
            "user: Who is the current Captain of the Winnipeg Jets?\n"
          ]
        },
        {
          "output_type": "execute_result",
          "data": {
            "text/plain": [
              "'thread_45vU1KHXgG9bZ7IYGl4cvTsS'"
            ],
            "application/vnd.google.colaboratory.intrinsic+json": {
              "type": "string"
            }
          },
          "metadata": {},
          "execution_count": 85
        }
      ]
    },
    {
      "cell_type": "markdown",
      "source": [
        "## Wrapping it All Together\n",
        "\n",
        "Now we can create an Assistant with all of the available tools and see how it responds to various queries!"
      ],
      "metadata": {
        "id": "vY51QtkGNvQe"
      }
    },
    {
      "cell_type": "code",
      "source": [
        "assistant = client.beta.assistants.create(\n",
        "    name=name + \" + All Tools\",\n",
        "    instructions=instructions,\n",
        "    tools=[\n",
        "        {\"type\": \"code_interpreter\"},\n",
        "        {\"type\": \"retrieval\"},\n",
        "        {\"type\": \"function\", \"function\" : ddg_function}\n",
        "    ],\n",
        "    model=model,\n",
        "    file_ids=[file_reference.id],\n",
        ")"
      ],
      "metadata": {
        "id": "HaoQSB7CN74T"
      },
      "execution_count": null,
      "outputs": []
    },
    {
      "cell_type": "code",
      "source": [
        "use_assistant(\"Who is the current Captain of the Winnipeg Jets?\", assistant.id)"
      ],
      "metadata": {
        "colab": {
          "base_uri": "https://localhost:8080/",
          "height": 377
        },
        "id": "g2GtwoGDPwp2",
        "outputId": "5eb0609d-d010-4eab-b070-f930324eb7c1"
      },
      "execution_count": null,
      "outputs": [
        {
          "output_type": "stream",
          "name": "stdout",
          "text": [
            "Creating Assistant \n",
            "Querying OpenAI Assistant Thread.\n",
            "Current run status: in_progress\n",
            "Current run status: in_progress\n",
            "Current run status: in_progress\n",
            "Current run status: in_progress\n",
            "Current run status: in_progress\n",
            "Current run status: in_progress\n",
            "Current run status: in_progress\n",
            "Current run status: requires_action\n",
            "Consulting Duck Duck Go...\n",
            "[{'tool_call_id': 'call_ZZYiu33dtJvsRpQ2uEsywxXJ', 'output': \"Winnipeg Jets Captains. Team Names: Winnipeg Jets, Atlanta Thrashers. Seasons: 24 (1999-00 to 2023-24) NHL Playoff Appearances: 7. NHL Championships: 0 (0 Stanley Cup) ... Current Summary/Standings, Current Schedule/Results, Current Leaders, Current Stats. 2023-24, ...\\nThe Winnipeg Jets have a new leader, one year after stripping the C from Blake Wheeler and deciding to play without a captain. Adam Lowry, who has been a Jet since 2011 when he was drafted 67th ...\\nLowry has been a part of the Jets organization since June 25, 2011, when he was selected in the third round, 67 th overall, after putting up 37 points in 36 games with the Swift Current Broncos of ...\\nWinnipeg Jets' Adam Lowry celebrates his second goal during the third period of an NHL hockey game against the Vancouver Canucks, in Vancouver, B.C., Monday, March 22, 2021.\\nLowry will follow Andrew Ladd and Blake Wheeler to serve as the third captain of the new Winnipeg Jets franchise. - Sep 12, 2023. After a season without a captain, the Winnipeg Jets have named ...\"}]\n",
            "Current run status: in_progress\n",
            "Current run status: completed\n",
            "assistant: The current Captain of the Winnipeg Jets is Adam Lowry. He succeeded Blake Wheeler to serve as the third captain of the new Winnipeg Jets franchise .\n",
            "assistant: The information about the current Captain of the Winnipeg Jets is not found in the document \"Frankenstein\" by Mary Shelley. Let me conduct a search to find the current Captain of the Winnipeg Jets for you.\n",
            "assistant: The file you uploaded is \"Frankenstein\" by Mary Shelley. Let me check if the information about the current Captain of the Winnipeg Jets is present in this document.\n",
            "user: Who is the current Captain of the Winnipeg Jets?\n"
          ]
        },
        {
          "output_type": "execute_result",
          "data": {
            "text/plain": [
              "'thread_DreCEz81pk9jy8zaeYGtcOR6'"
            ],
            "application/vnd.google.colaboratory.intrinsic+json": {
              "type": "string"
            }
          },
          "metadata": {},
          "execution_count": 87
        }
      ]
    },
    {
      "cell_type": "code",
      "source": [
        "use_assistant(\"Who is the author of the supplied file?\", assistant.id)"
      ],
      "metadata": {
        "colab": {
          "base_uri": "https://localhost:8080/",
          "height": 143
        },
        "id": "7QjcxpQ5P-HX",
        "outputId": "fa4a2d49-a8aa-4d7e-cc38-916fd4aa2321"
      },
      "execution_count": null,
      "outputs": [
        {
          "output_type": "stream",
          "name": "stdout",
          "text": [
            "Creating Assistant \n",
            "Querying OpenAI Assistant Thread.\n",
            "Current run status: in_progress\n",
            "Current run status: completed\n",
            "assistant: The author of the supplied file is Mary Shelley. The file contains the text of the novel \"Frankenstein\" by Mary Shelley【5†source】.\n",
            "user: Who is the author of the supplied file?\n"
          ]
        },
        {
          "output_type": "execute_result",
          "data": {
            "text/plain": [
              "'thread_kGxm3SWwhFtEb1lF51GQ1brJ'"
            ],
            "application/vnd.google.colaboratory.intrinsic+json": {
              "type": "string"
            }
          },
          "metadata": {},
          "execution_count": 88
        }
      ]
    },
    {
      "cell_type": "code",
      "source": [
        "use_assistant(\"How many bytes is the provided file?\", assistant.id)"
      ],
      "metadata": {
        "colab": {
          "base_uri": "https://localhost:8080/",
          "height": 288
        },
        "id": "kSKL96nvQIUq",
        "outputId": "3c7ac232-0427-433e-d95f-462132a96686"
      },
      "execution_count": null,
      "outputs": [
        {
          "metadata": {
            "tags": null
          },
          "name": "stdout",
          "output_type": "stream",
          "text": [
            "Creating Assistant \n",
            "Querying OpenAI Assistant Thread.\n",
            "Current run status: requires_action\n",
            "Consulting Duck Duck Go...\n",
            "[{'tool_call_id': 'call_QYKaU6NkcLEcBY1yDZpfkPR7', 'output': 'Here are some advantages to use du command to check file size in Linux. The du command can show the size of a file in human-readable format, which makes it easier to interpret the results.; The du command can be used to check the size of multiple files at once.; The du command can be used to check the size of directory.; The du command is faster than the ls command when checking the size of ...\\nThe du command can be used to check the size of files, directories, and the total disk space used by the current directory and subdirectories. Run \"du -h\" to see a list of files and folders in a human-readable format. When you use the Linux du command, you obtain both the actual disk usage and the true size of a file or directory.\\nBy default, the block size in most Linux system is 4096 Bytes or 4 KB. A directory in Linux is simply a file with the information about the memory location of all the files in it. You can force ls command to display file size in MB with the --block-size flag. ls -l --block-size=M\\nTo get the directory size, you use the du command (disk utilization) in the following way: du -sh dirname. You may also use the stat command to get the file size but somehow I feel more comfortable using the ls command. I hope this basic Linux command tip helped you check file sizes in Linux. Terminal.\\n@Jun No. Thats not metadata. ls -l generally shows 1 byte extra than the number of characters you see in the file. This extra character is generally a new line character. You can check it with od -c <filename> In unix/Linux, a new line is stored at the end of each line. and the file will end with a new line(an empty file is an exception to this rule). ). In any case od -c filename will give ...'}]\n",
            "Current run status: in_progress\n",
            "Current run status: in_progress\n",
            "Current run status: in_progress\n",
            "Current run status: in_progress\n",
            "Current run status: completed\n",
            "assistant: The provided file is 1204 bytes in size.\n",
            "assistant: I will check the size of the uploaded file for you.\n",
            "user: How many bytes is the provided file?\n"
          ]
        },
        {
          "output_type": "execute_result",
          "data": {
            "text/plain": [
              "'thread_eRH6acmQ3nSLotEOnlIooYnb'"
            ],
            "application/vnd.google.colaboratory.intrinsic+json": {
              "type": "string"
            }
          },
          "metadata": {},
          "execution_count": 89
        }
      ]
    },
    {
      "cell_type": "markdown",
      "source": [
        "####❓ Question\n",
        "\n",
        "Notice that our response can go through multiple paths, given that:\n",
        "\n",
        "What is \"deciding\" to use the tool?\n",
        "\n",
        "\n",
        "The decision on which tool to use is determined by the OpenAI Assistant's internal logic, considering the query's nature and the available tools' capabilities to choose the best response method."
      ],
      "metadata": {
        "id": "gm0oYJu7VAjg"
      }
    },
    {
      "cell_type": "markdown",
      "source": [
        "### Adding JSON Mode for More Agentic Behaviour\n",
        "\n",
        "Finally, we have the ability to select tools - all we need to do now is set up a process to allow us to create some kind of loop and make decisions about whether or not the response is complete or not.\n",
        "\n",
        "We'll leverage the OpenAI completions end-endpoint with JSON mode to let us understand when we've adequately answered our user's question!"
      ],
      "metadata": {
        "id": "FrJWQ4XvZ20K"
      }
    },
    {
      "cell_type": "code",
      "source": [
        "completed_template = \\\n",
        "\"\"\"\n",
        "Does this response adequately answer the user's query?\n",
        "\n",
        "Please return your response in JSON format - with key: \"completed\" and either True (if completed) or False (if not completed)\n",
        "\n",
        "User Query:\n",
        "{query}\n",
        "\n",
        "Assistant Response:\n",
        "{response}\n",
        "\"\"\"\n",
        "\n",
        "def is_complete(query, response):\n",
        "  completed_response = client.chat.completions.create(\n",
        "      messages=[\n",
        "          {\n",
        "              \"role\": \"user\",\n",
        "              \"content\": completed_template.format(query=query, response=response),\n",
        "          }\n",
        "      ],\n",
        "      model=model,\n",
        "      response_format={\"type\" : \"json_object\"}\n",
        "  )\n",
        "\n",
        "  return completed_response"
      ],
      "metadata": {
        "id": "Rzrk8gn2anpe"
      },
      "execution_count": null,
      "outputs": []
    },
    {
      "cell_type": "code",
      "source": [
        "query = \"How many bytes is the provided file?\"\n",
        "\n",
        "thread_id_for_response = use_assistant(query, assistant.id)"
      ],
      "metadata": {
        "colab": {
          "base_uri": "https://localhost:8080/"
        },
        "id": "9kCQrx03brge",
        "outputId": "7ac26da8-31e9-44ae-b064-39d312caf642"
      },
      "execution_count": null,
      "outputs": [
        {
          "output_type": "stream",
          "name": "stdout",
          "text": [
            "Creating Assistant \n",
            "Querying OpenAI Assistant Thread.\n",
            "Current run status: requires_action\n",
            "Consulting Duck Duck Go...\n",
            "[{'tool_call_id': 'call_JWDAfFDNG9KA6Jq0TM1cQ0EP', 'output': 'Here are some advantages to use du command to check file size in Linux. The du command can show the size of a file in human-readable format, which makes it easier to interpret the results.; The du command can be used to check the size of multiple files at once.; The du command can be used to check the size of directory.; The du command is faster than the ls command when checking the size of ...\\nThe du command can be used to check the size of files, directories, and the total disk space used by the current directory and subdirectories. Run \"du -h\" to see a list of files and folders in a human-readable format. When you use the Linux du command, you obtain both the actual disk usage and the true size of a file or directory.\\nA directory in Linux is simply a file with the information about the memory location of all the files in it. You can force ls command to display file size in MB with the --block-size flag. ls -l --block-size=M. The problem with this approach is that all the files with a size of less than 1 MB will also be displayed with file size of 1 MB.\\nTo get the directory size, you use the du command (disk utilization) in the following way: du -sh dirname. You may also use the stat command to get the file size but somehow I feel more comfortable using the ls command. I hope this basic Linux command tip helped you check file sizes in Linux. Terminal.\\n@Jun No. Thats not metadata. ls -l generally shows 1 byte extra than the number of characters you see in the file. This extra character is generally a new line character. You can check it with od -c <filename> In unix/Linux, a new line is stored at the end of each line. and the file will end with a new line(an empty file is an exception to this rule). ). In any case od -c filename will give ...'}]\n",
            "Current run status: in_progress\n",
            "Current run status: completed\n",
            "assistant: The provided file \"frankenstein.html\" has a size of 466,919 bytes.\n",
            "user: How many bytes is the provided file?\n"
          ]
        }
      ]
    },
    {
      "cell_type": "markdown",
      "source": [
        "Now we can observe JSON mode in action!"
      ],
      "metadata": {
        "id": "lSJs9oDIgBTK"
      }
    },
    {
      "cell_type": "code",
      "source": [
        "messages = client.beta.threads.messages.list(thread_id=thread_id_for_response)\n",
        "response = messages.data[0].content[0].text.value\n",
        "completed_flag = json.loads(is_complete(query, response).choices[0].message.content)"
      ],
      "metadata": {
        "id": "MSDsmlDBcYk_"
      },
      "execution_count": null,
      "outputs": []
    },
    {
      "cell_type": "code",
      "source": [
        "completed_flag"
      ],
      "metadata": {
        "colab": {
          "base_uri": "https://localhost:8080/"
        },
        "id": "_-SKB6TWf_Ra",
        "outputId": "4bfc5927-c0f1-4e23-c648-9dd70cb62297"
      },
      "execution_count": null,
      "outputs": [
        {
          "output_type": "execute_result",
          "data": {
            "text/plain": [
              "{'completed': True}"
            ]
          },
          "metadata": {},
          "execution_count": 93
        }
      ]
    },
    {
      "cell_type": "markdown",
      "source": [
        "## 🚧 BONUS CHALLENGE 🚧:\n",
        "\n",
        "Use the components we've constructed so far to build a loop that lets us continue to query the Assistant if the response is not completed!"
      ],
      "metadata": {
        "id": "bivIAVh0dTwA"
      }
    },
    {
      "cell_type": "code",
      "source": [
        "### YOUR CODE HERE"
      ],
      "metadata": {
        "id": "vtWh_h_WfjuS"
      },
      "execution_count": null,
      "outputs": []
    },
    {
      "cell_type": "markdown",
      "source": [
        "# Make Sure You Delete Resources\n",
        "\n",
        "Make sure you delete all the resources you created!\n",
        "\n",
        "This function will help you do so!"
      ],
      "metadata": {
        "id": "VJjYm6gnfWrS"
      }
    },
    {
      "cell_type": "code",
      "source": [
        "file_deletion_status = client.beta.assistants.files.delete(\n",
        "  assistant_id=assistant.id,\n",
        "  file_id=file_reference.id\n",
        ")"
      ],
      "metadata": {
        "id": "62b49AleR6m_"
      },
      "execution_count": null,
      "outputs": []
    }
  ]
}
